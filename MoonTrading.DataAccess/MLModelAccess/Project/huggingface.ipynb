{
 "cells": [
  {
   "cell_type": "code",
   "execution_count": 1,
   "metadata": {},
   "outputs": [
    {
     "name": "stderr",
     "output_type": "stream",
     "text": [
      "C:\\Program Files\\Anaconda3\\envs\\cis3\\lib\\site-packages\\torch\\package\\_directory_reader.py:17: UserWarning: Failed to initialize NumPy: module compiled against API version 0xe but this version of numpy is 0xd (Triggered internally at  C:\\Users\\builder\\tkoch\\workspace\\pytorch\\pytorch_1647970138273\\work\\torch\\csrc\\utils\\tensor_numpy.cpp:68.)\n",
      "  _dtype_to_storage = {data_type(0).dtype: data_type for data_type in _storages}\n"
     ]
    },
    {
     "name": "stdout",
     "output_type": "stream",
     "text": [
      "### Python version: 3.7.11 (default, Jul 27 2021, 09:42:29) [MSC v.1916 64 bit (AMD64)]\n",
      "### Numpy version: 1.19.5\n",
      "### Scikit-learn version: 0.23.2\n",
      "### Tensorflow version: 2.6.0\n",
      "### TF Keras version: 2.6.0\n",
      "### Seaborn version: 0.11.0\n",
      "------------\n"
     ]
    }
   ],
   "source": [
    "#Load packages\n",
    "import sys\n",
    "import os\n",
    "import time\n",
    "import datetime\n",
    "\n",
    "import numpy as np\n",
    "import sklearn as sk\n",
    "import pandas as pd\n",
    "import tensorflow as tf\n",
    "import seaborn as sns\n",
    "import nltk\n",
    "\n",
    "import tensorflow.keras as keras\n",
    "from tensorflow.keras.layers import Input, Flatten, Dense, Dropout, SimpleRNN, GRU, LSTM, TimeDistributed\n",
    "from tensorflow.keras.callbacks import EarlyStopping, ModelCheckpoint, TensorBoard\n",
    "\n",
    "from transformers import AutoTokenizer\n",
    "from transformers import TFAutoModelForSequenceClassification\n",
    "\n",
    "from transformers import BertConfig, TFBertModel\n",
    "\n",
    "%load_ext tensorboard\n",
    "%matplotlib inline\n",
    "from matplotlib import pyplot as plt\n",
    "plt.rcParams.update({'font.size': 18})\n",
    "\n",
    "# Package versions\n",
    "print('### Python version: ' + sys.version)\n",
    "print('### Numpy version: ' + np.__version__)\n",
    "print('### Scikit-learn version: ' + sk.__version__)\n",
    "print('### Tensorflow version: ' + tf.__version__)\n",
    "print('### TF Keras version: ' + keras.__version__)\n",
    "print('### Seaborn version: ' + sns.__version__)\n",
    "print('------------')"
   ]
  },
  {
   "cell_type": "code",
   "execution_count": 2,
   "metadata": {},
   "outputs": [],
   "source": [
    "# Set seed\n",
    "seed = 52\n",
    "np.random.seed(seed)\n",
    "tf.random.set_seed(seed)"
   ]
  },
  {
   "cell_type": "code",
   "execution_count": 3,
   "metadata": {},
   "outputs": [
    {
     "data": {
      "text/html": [
       "<div>\n",
       "<style scoped>\n",
       "    .dataframe tbody tr th:only-of-type {\n",
       "        vertical-align: middle;\n",
       "    }\n",
       "\n",
       "    .dataframe tbody tr th {\n",
       "        vertical-align: top;\n",
       "    }\n",
       "\n",
       "    .dataframe thead th {\n",
       "        text-align: right;\n",
       "    }\n",
       "</style>\n",
       "<table border=\"1\" class=\"dataframe\">\n",
       "  <thead>\n",
       "    <tr style=\"text-align: right;\">\n",
       "      <th></th>\n",
       "      <th>tweets</th>\n",
       "      <th>sentiment</th>\n",
       "    </tr>\n",
       "  </thead>\n",
       "  <tbody>\n",
       "    <tr>\n",
       "      <th>0</th>\n",
       "      <td>#BTC The biggest dump in history is coming</td>\n",
       "      <td>2</td>\n",
       "    </tr>\n",
       "    <tr>\n",
       "      <th>1</th>\n",
       "      <td>#BTC How far do you think bitcoin will fall?</td>\n",
       "      <td>2</td>\n",
       "    </tr>\n",
       "    <tr>\n",
       "      <th>2</th>\n",
       "      <td>#BTC time to buy</td>\n",
       "      <td>0</td>\n",
       "    </tr>\n",
       "    <tr>\n",
       "      <th>3</th>\n",
       "      <td>#BTC its brutal out here</td>\n",
       "      <td>2</td>\n",
       "    </tr>\n",
       "    <tr>\n",
       "      <th>4</th>\n",
       "      <td>#BTC going down</td>\n",
       "      <td>2</td>\n",
       "    </tr>\n",
       "    <tr>\n",
       "      <th>...</th>\n",
       "      <td>...</td>\n",
       "      <td>...</td>\n",
       "    </tr>\n",
       "    <tr>\n",
       "      <th>195</th>\n",
       "      <td>$LRC Anyone know the reason for LRC pumping? I...</td>\n",
       "      <td>0</td>\n",
       "    </tr>\n",
       "    <tr>\n",
       "      <th>196</th>\n",
       "      <td>$LRC we need more market cap",
       ".sure whales have...</td>\n",
       "      <td>1</td>\n",
       "    </tr>\n",
       "    <tr>\n",
       "      <th>197</th>\n",
       "      <td>$APE Beware there is a big dump coming</td>\n",
       "      <td>2</td>\n",
       "    </tr>\n",
       "    <tr>\n",
       "      <th>198</th>\n",
       "      <td>What is something you would like to see $APE d...</td>\n",
       "      <td>1</td>\n",
       "    </tr>\n",
       "    <tr>\n",
       "      <th>199</th>\n",
       "      <td>$APE everyone tell me what they think will hap...</td>\n",
       "      <td>1</td>\n",
       "    </tr>\n",
       "  </tbody>\n",
       "</table>\n",
       "<p>200 rows × 2 columns</p>\n",
       "</div>"
      ],
      "text/plain": [
       "                                                tweets  sentiment\n",
       "0           #BTC The biggest dump in history is coming          2\n",
       "1         #BTC How far do you think bitcoin will fall?          2\n",
       "2                                     #BTC time to buy          0\n",
       "3                             #BTC its brutal out here          2\n",
       "4                                      #BTC going down          2\n",
       "..                                                 ...        ...\n",
       "195  $LRC Anyone know the reason for LRC pumping? I...          0\n",
       "196  $LRC we need more market cap\n",
       ".sure whales have...          1\n",
       "197             $APE Beware there is a big dump coming          2\n",
       "198  What is something you would like to see $APE d...          1\n",
       "199  $APE everyone tell me what they think will hap...          1\n",
       "\n",
       "[200 rows x 2 columns]"
      ]
     },
     "execution_count": 3,
     "metadata": {},
     "output_type": "execute_result"
    }
   ],
   "source": [
    "# Load data, select columns, remove NaN\n",
    "tweets_path = 'Data/tweets.csv'\n",
    "tweets_df = pd.read_csv(tweets_path,\n",
    "                          encoding = \"ISO-8859-1\")\n",
    "features = ['tweets', 'sentiment']\n",
    "tweets_df = tweets_df[tweets_df.columns[tweets_df.columns.isin(features)]]\n",
    "tweets_df = tweets_df.dropna()\n",
    "tweets_df"
   ]
  },
  {
   "cell_type": "code",
   "execution_count": 4,
   "metadata": {
    "scrolled": true
   },
   "outputs": [
    {
     "data": {
      "text/plain": [
       "((200, 1), (200, 1))"
      ]
     },
     "execution_count": 4,
     "metadata": {},
     "output_type": "execute_result"
    }
   ],
   "source": [
    "# convert to numpy, split features and target\n",
    "\n",
    "all_tweets = np.asarray(tweets_df)\n",
    "all_x = all_tweets[:, 0:1]\n",
    "#all_y = tf.keras.utils.to_categorical(all_tweets[:, 1:all_tweets.shape[1]], num_classes=3)\n",
    "#all_y = tf.convert_to_tensor(all_tweets[:, 1:all_tweets.shape[1]])\n",
    "all_y = all_tweets[:, 1:all_tweets.shape[1]]\n",
    "\n",
    "all_x.shape, all_y.shape"
   ]
  },
  {
   "cell_type": "code",
   "execution_count": 5,
   "metadata": {},
   "outputs": [
    {
     "name": "stdout",
     "output_type": "stream",
     "text": [
      "(120, 1) (40, 1) (120, 1) (40, 1)\n",
      "(40, 1) (40, 1) (40, 1) (40, 1)\n"
     ]
    },
    {
     "data": {
      "text/plain": [
       "array([['#BTC\\xa0The biggest dump in history is coming', 2],\n",
       "       ['#BTC\\xa0How far do you think bitcoin will fall?', 2],\n",
       "       ['#BTC\\xa0time to buy', 0],\n",
       "       ['#BTC\\xa0its\\xa0brutal\\xa0out\\xa0here', 2],\n",
       "       ['#BTC\\xa0going down', 2],\n",
       "       ['I\\x92m bullish on$BTC', 0],\n",
       "       ['#BTC\\xa0will only recover next year but this is the right time to accumulate more bitcoin',\n",
       "        0],\n",
       "       ['#BTC\\xa0Really, even if Bitcoin reaches 100,000 dollars, it is not worth investing because it is completely controlled by the capitalist class. Bitcoin is the biggest scammer of the 21st century.',\n",
       "        2],\n",
       "       ['#BTC\\xa0im not worry, I love action', 0],\n",
       "       ['#BTC\\xa0Going to liquidate @saylor', 2],\n",
       "       ['#BTC\\xa0buy the bottom dont miss the train you will all invest next Week when its 25k',\n",
       "        0],\n",
       "       ['#BTC\\xa0buy the bottom', 0],\n",
       "       ['#BTC\\xa0babylon\\xa0is\\xa0falling\\xa0down.\\xa0Everybody\\xa0losin\\xa0control',\n",
       "        2],\n",
       "       ['#BTC\\xa0when everybody says it will Drop more then it will go up fast just look',\n",
       "        1],\n",
       "       ['#BTC\\xa0if\\xa0you\\xa0plan\\xa0on\\xa0buying\\xa0into\\xa0btc,\\xa0today\\xa0definitely\\xa0the\\xa0day\\xa0too\\xa0do\\xa0it',\n",
       "        0],\n",
       "       ['#BTC\\xa018k\\xa0by\\xa0midnight', 1],\n",
       "       ['Whatever happens with #FTX , it´s clear that this damages the image and freedom of the entire crypto community Should we distrust everyone?',\n",
       "        2],\n",
       "       [\"BITCOIN, ETHEREUM TUMBLE AS WORRIES SURROUNDING CRYPTO EXCHANGE FTX'S NATIVE COIN\\xa0MOUNT #BTC\\xa0#ETH\\xa0#FTX\",\n",
       "        2],\n",
       "       ['Famous x XrpJunkies 5 NFT give away Mint is live like+rt tag 3 friends',\n",
       "        1],\n",
       "       ['5% cash back promo will be extended until the 12/11 8 PM EST.',\n",
       "        1],\n",
       "       ['We are giving away 3 @HOFA_io\\xa0#DAO\\xa0Passes worth $250 each to 3 lucky @BranSymondson @Kalash47NFT collectors.',\n",
       "        1],\n",
       "       ['Joker Bombs Bonus Buy #Giveaway ??10 winners will be selected for a $40 Bonus Buy on Joker Bombs each! - Tag a Friend - Like, Follow & RT Ends tomorrow!',\n",
       "        1],\n",
       "       [\"I was here when #bitcoin??? crashed from $30 to $2. I was here when it crashed from $1200 to $200. I was here when it crashed from $20k to $3k. I was here when it crashed from $14k to $4k. There's always those poor lost souls that sell the bottom and regret it forever.\",\n",
       "        0],\n",
       "       ['Fruit Party Bonus Buy #Giveaway ??10 winners will be selected for a $20 Bonus Buy each! - Tag a Friend - Like, Follow & RT - Comment UserID Ends tomorrow! #contest #Prize #Competition #BTC #ETH #doge #XRP #freecash #cash',\n",
       "        1],\n",
       "       ['We are giving away 3  @HOFA_io #DAO Passes worth $250 each to 3 lucky  @BranSymondson @Kalash47NFT collectors. - Follow us, like, RT & Tag 3 friends - Screenshot your favourite Bran Symondson artwork - Comment with #ETH wallet WHITELIST NOW: http://eepurl.com/ic0TIT',\n",
       "        1],\n",
       "       [\"I\\xa0can't\\xa0bear\\xa0to\\xa0drop\\xa0any\\xa0more.\\xa0I\\xa0have\\xa0to\\xa0sell\\xa0myself\\xa0to\\xa0pay\\xa0my\\xa0debts.????\",\n",
       "        2],\n",
       "       ['lol long term ETH is worth 900$ lol', 2],\n",
       "       ['THE\\xa0LOWER\\xa0ETH\\xa0GOES,\\xa0THE\\xa0MORE\\xa0WE\\xa0BUY\\xa0??????',\n",
       "        0],\n",
       "       ['I\\x92m bearish on\\xa0$ETH', 2],\n",
       "       ['#ETH\\xa0those\\xa0that\\xa0were\\xa0laughing\\xa0a\\xa0week\\xa0ago\\xa0are\\xa0now\\xa0crying\\xa0??????????',\n",
       "        1],\n",
       "       ['#ETH\\xa0going to moon', 0],\n",
       "       ['#ETH\\xa0Cardano will compete with ethereum soon. I hope you learnt from Solana case. All centralized L1 coins will die except for bnb',\n",
       "        2],\n",
       "       ['#ETH\\xa0Bottom is in during the next days!', 0],\n",
       "       [\"#ETH\\xa0I'm bullish on eth becuz price could go up, but I'm bearish on eth becuz the price could go down\",\n",
       "        1],\n",
       "       ['#ETH\\xa0Guys checkout and research on Nervos Network CKB you wont regret.',\n",
       "        1],\n",
       "       [\"#ETH\\xa0Where the money is PERIOD. ?? ?? This has most USAGE & DEVS by a LONG shot. Ignore the FUD With this upgrade its now future proof. Buy the big selloffs and HODL. It's easy!\",\n",
       "        0],\n",
       "       ['#ETH\\xa0Smoking that ethereum pack', 2],\n",
       "       ['#ETH\\xa0Either\\xa0you\\xa0hodl\\xa0few\\xa0years\\xa0or\\xa0sell\\xa0when\\xa0it\\xa0bounces\\xa0back\\xa0for\\xa0a\\xa0short\\xa0moment.\\xa0It\\x92s\\xa0like\\xa0dropping\\xa0a\\xa0ball\\xa0??',\n",
       "        2],\n",
       "       ['#ETH\\xa0is\\xa0junk\\xa0coin\\xa0so\\xa0predictable,\\xa0easy\\xa0short\\xa0easy\\xa0money',\n",
       "        2],\n",
       "       ['#ETH\\xa0bullish!!', 0],\n",
       "       [\"#ETH\\xa0keep\\xa0on\\xa0DCA,\\xa0buying\\xa0it\\xa0while\\xa0it's\\xa0low\\xa0and\\xa0hot\\xa0??\\xa0??????????????????\",\n",
       "        0],\n",
       "       ['#ETH\\xa0MARKET\\xa0CRASHED', 2],\n",
       "       ['#ETH\\xa0EVERYTHING\\xa0IS\\xa0ON\\xa0SALE', 0],\n",
       "       [\"It's true that  @cz_binance 's hairstyle is based on the current #BTC & $ETH spot trading fees on #Binance. 0. Enjoy ??https://binance.com/en/trade/BTC_BUSD?theme=dark&type=spot&ref=AZTKZ9XS&utm_source=BinanceTwitter&utm_medium=GlobalSocial&utm_campaign=GlobalSocial\",\n",
       "        1],\n",
       "       [\"#bitcoin??? guys I've been trying to save for years now. It's time to apologize to me. #BTC??? just hit $15k and is now cheaper than it was in 2017 by quite a lot. Apologize.\",\n",
       "        2],\n",
       "       ['??BREAKING: *BITCOIN PLUNGES 17% TO $17,200 AMID CRYPTO SELLOFF #BTC #BITCOIN',\n",
       "        2],\n",
       "       ['Will\\xa0#BTC\\xa0DUMP LOWER?? NO MAYBE YES ?? ?? ??', 1],\n",
       "       [\"#Bitcoin's amazing run! #BTC did 17x in 397 days! What day do you think it fell out of its parabola? Post your best parabola still intact and this time is different memes! I'll start!\",\n",
       "        1],\n",
       "       ['??BREAKING: *BITCOIN FALLS TO NEW 52-WEEK LOW, REACHES LOWEST SINCE DECEMBER 2020 $BTC #BTC',\n",
       "        2],\n",
       "       ['On 31st Oct. I clear predicted that on 6 , 7 , 8 NOV, #BTC will go down, so close ur trades before 6th NOV. This is how you predict the #Bitcoin\\xa0 market , no two scenarios drama, no technical analysis complication. To join the prediction group visit http://waqarzaka.net',\n",
       "        1],\n",
       "       ['What a crazy day for Crypto yesterday, safe to say the range has been broken!! It´s possible we see the $12k area as the bottom $12.5k seems to be a strong S/R level from 2020 too #BTC #cryptocrash #Crypto #trading',\n",
       "        2],\n",
       "       ['AMA SCHEDULE - WEDNESDAY AMA #1 - 12.30 PM UTC (30 MINS) AMA #2 - 4 PM UTC Come and learn about crypto and have a chance of winning crypto prizes. https://t.me/gollumsgems #bsc #bnb #crypto #btc #Cryptocurrency',\n",
       "        1],\n",
       "       ['Whatever happens with #FTX , it´s clear that this damages the image and freedom of the entire crypto community Should we distrust everyone? ??#BTC #ETH #SOL #POLY #BNB #DOGE #FTT #LUNC #SHIB #XRP #VET #community',\n",
       "        2],\n",
       "       ['I´M BULLISH ON\\xa0#XRP\\xa0#Lunc\\xa0#DOGE\\xa0#GALA The\\xa0alt-coin RUN IS COMING GUYS ????',\n",
       "        0],\n",
       "       ['Hey @Coinbase , exchange fud is at ATH, maybe relist\\xa0#XRP\\xa0to lighten the mood? Thanks!',\n",
       "        1],\n",
       "       ['We are in a bear market. What we do here directly correlates to how much we win in the next bull market. Choose wisely. #Bitcoin #Cardano #Xrp',\n",
       "        2],\n",
       "       [\"??Agent 844, a.k.a Kaia 'You can waste your lives drawing lines. Or you can live your life crossing them.' #xSPECTAR #NFTs #XRP #XRPL #XRPLedger\",\n",
       "        1],\n",
       "       ['If you can survive & make it out of this freezing bear in one piece, you can do\\xa0anything! #Bitcoin\\xa0#Cardano\\xa0#Xrp',\n",
       "        0],\n",
       "       ['This is getting weird: 6 October - a hacker drains $580 million #bnb 7 November - Binance starts dumping $580 million #ftt 7 November - FTX urging CZ to stop dumping ftt 8 November - CZ willing to stop dumping and trade all their ftt if ftx gives them $580 million in BNB.??',\n",
       "        2],\n",
       "       ['Drop your\\xa0#Bitcoin\\xa0or\\xa0#BNB\\xa0address below and make sure you are following me. Dont ask why!',\n",
       "        1],\n",
       "       ['#GroveGreenArmy we went through similar market conditions in June. We moved up from it the first time, I am confident we will prevail again. Stay positive; we will #KeepBuilding #GroveToken #GroveC #GroveX #GroveSwap #13th #BNB #cryptocurrency',\n",
       "        0],\n",
       "       ['All I want for Christmas ??is just $40000 for one #Bitcoin $690 for one #BNB $100 for one #Litecoin $0.01 for one #ADA $0.1 for one #LUNC Is this too much to ask for???',\n",
       "        1],\n",
       "       ['Which #cyrpto project do you strongly believe in? ??#BTC\\xa0 #BNB\\xa0 #ETH #XRP #SHIB #KISHU #DOGE #AVAX\\xa0 #ADA #FEG #MATIC #SAND #MANA #RISE #BabyDoge Did I miss something? #100xgem #Altcoins',\n",
       "        1],\n",
       "       ['GM #CRYPTO Fam!! ??What is the next 100X ??? #BTC #BNB #ETH #SOL #CRO #AVAX #ADA #dogecoin #BlueSparrow #FLOKI #KISHUKINGDOM #altcoin #memecoin #NFTs #GameFi #Metaverse',\n",
       "        1],\n",
       "       ['Is this comeback season for #Doge? Crypto just bounced back! $53K in the past hour with #Dogecoin and I just bought a #Doge NFT! Let\\x92s go! ??',\n",
       "        0],\n",
       "       ['I´M BULLISH ON\\xa0#XRP\\xa0#Lunc\\xa0#DOGE\\xa0#GALA The\\xa0alt-coin RUN IS COMING GUYS ????',\n",
       "        0],\n",
       "       ['Which\\xa0#memecoin\\xa0will have the best comeback\\xa0? #KISHU #SHIB #DOGE #SHINJA #KIBA #BabyDoge #AirCoin\\xa0#Crogecoin\\xa0#CheemsInu #_______?',\n",
       "        1],\n",
       "       ['Do you think\\xa0#DOGE\\xa0will end up on twitter? ?? ?? No\\x85 Yes!',\n",
       "        1],\n",
       "       ['New round of #Binance Learn & Stake coming soon! All verified users can earn free $DOGE and enjoy 100% APR on #DOGE Locked Products by completing the course and quiz from November 2. Get studying ??',\n",
       "        1],\n",
       "       [\"Hey\\xa0#shibarmy.\\xa0I can't be the only one buying $shib. Nice little dip in play.\\xa0#shib\",\n",
       "        0],\n",
       "       ['Which\\xa0#Crypto\\xa0do you use every day\\xa0? #ETH\\xa0#SHIB #Solana\\xa0#Cardano\\xa0#FEG #Babydoge #matic #kiba\\xa0#CHOICE #VPAD\\xa0#_____? ????',\n",
       "        1],\n",
       "       ['#SHIB\\xa0nightmare situation = opportunity. New video. https://t.co/JYvFMiEPMD',\n",
       "        0],\n",
       "       ['starting to hate\\xa0#XRP', 2],\n",
       "       ['#XRP\\xa0Too\\xa0many\\xa0conspiracy\\xa0theories\\xa0that\\xa0should\\xa0lead\\xa0you\\xa0to\\xa0riches...\\xa0already\\xa0boring',\n",
       "        2],\n",
       "       ['#XRP\\xa0i\\xa0think\\xa0xrp\\xa0will\\xa0stabilise,\\xa0it\\xa0will\\xa0become\\xa0a\\xa0very\\xa0useful\\xa0and\\xa0stable\\xa0coin\\xa0at\\xa0the\\xa0good\\xa0price\\xa0of\\xa01\\xa0cent\\xa0where\\xa0it\\xa0will\\xa0stay\\xa0for\\xa0eternity.',\n",
       "        2],\n",
       "       ['#XRP\\xa0if\\xa0youre\\xa0smart\\xa0you\\xa0wont\\xa0sell\\xa0and\\xa0you\\x92d\\xa0actually\\xa0buy\\xa0more.',\n",
       "        0],\n",
       "       ['#XRP\\xa0by the dip', 0],\n",
       "       ['#XRP\\xa0the\\xa0entire\\xa0market\\xa0is\\xa0bleeding\\xa0!!!', 2],\n",
       "       ['Who thinks\\xa0$XRP\\xa0might end up becoming a stable coin? I think it might be.',\n",
       "        1],\n",
       "       ['#XRP\\xa0still\\xa0bullish\\xa0!\\xa0After\\xa0storm\\xa0come\\xa0sunshine\\xa0????\\xa0we\\xa0all\\xa0know\\xa0what\\xa0gonna\\xa0happand\\xa0than\\xa0??',\n",
       "        0],\n",
       "       ['$XRP\\xa0the\\xa0whole\\xa0market\\xa0is\\xa0like\\xa0the\\xa0luna\\xa0crash\\xa0??',\n",
       "        2],\n",
       "       ['$XRP\\xa0Feels like Black Friday Sale!!! Im Going shopping!!!',\n",
       "        0],\n",
       "       ['$XRP\\xa0Fantastic\\xa0buying\\xa0opportunity', 0],\n",
       "       [\"$XRP\\xa0is losing the case and it's a security cause it's heavily centralized like a company. It won't make it. It will crash overnight.\",\n",
       "        2],\n",
       "       ['$XRP\\xa0Chris Larsen and Brad Garlinghouse owns most of the xrp tokens. They will take a dump on you any minute',\n",
       "        2],\n",
       "       ['$XRP\\xa0buy buy buy .. ???????', 0],\n",
       "       ['$XRP\\xa0thanksgiving\\xa0and\\xa0christmas\\xa0came\\xa0early\\xa0peeps\\xa0don\\x92t\\xa0sleep\\xa0on\\xa0the\\xa0fire\\xa0sale\\xa0grab\\xa0your\\xa0favorite\\xa0coin\\xa0not\\xa0just\\xa0XRP\\xa0:)',\n",
       "        0],\n",
       "       ['$XRP\\xa0sell everything immediately as long as there is time the worst is yet to come, this for all crypto',\n",
       "        2],\n",
       "       ['$XRP\\xa0fire\\xa0sale!!!!', 0],\n",
       "       ['$XRP\\xa0get\\xa0some\\xa0more,\\xa0everything\\xa0on\\xa0sale\\xa0wahooooooo',\n",
       "        0],\n",
       "       ['$XRP\\xa0it will go down steeply for the next few days until it hits new important lows, whoever buys it is a chicken',\n",
       "        2],\n",
       "       ['$XRP\\xa0perfect\\xa0time\\xa0to\\xa0add\\xa0to\\xa0the\\xa0bag!', 0],\n",
       "       ['$XRP\\xa0the market cap of this coin should be a whole lot less.. way too many risk variables let alone the crypto dump we are witnessing.',\n",
       "        2],\n",
       "       ['$XRP\\xa0I prefer investing and watch the market', 1],\n",
       "       ['$TRX\\xa0WILL DIE WITH TETHER', 2],\n",
       "       ['$TRX\\xa0bigger dip bigger pump', 0],\n",
       "       ['$ETC\\xa0slow\\xa0and\\xa0painful\\xa0death\\xa0coming,sell\\xa0sell\\xa0sell\\xa0please\\xa0save\\xa0your\\xa0assssessss\\xa0pleaseeeee',\n",
       "        2],\n",
       "       ['$ETC\\xa0people\\xa0try\\xa0not\\xa0lose\\xa0everything,heavy\\xa0dump\\xa0incoming',\n",
       "        2],\n",
       "       ['$ETC\\xa0IS\\xa0A\\xa0LONG\\xa0TERM\\xa0INVESTMENT', 0],\n",
       "       ['$ETC\\xa0REBOUNDS\\xa0SOON!', 0],\n",
       "       ['I\\x92m\\xa0bearish\\xa0on\\xa0$ETC', 2],\n",
       "       ['I\\x92m\\xa0bullish\\xa0on\\xa0$ETC', 0],\n",
       "       ['#BTC\\xa0never dies', 0],\n",
       "       ['How much\\xa0#BTC\\xa0\\xa0are you hodling? ?? 10 $BTC <\\xa0\\xa0 1 $BTC <\\xa0\\xa0 0.1 $BTC ??\\xa0\\xa0\\xa0\\xa0\\xa0\\xa0\\xa0\\xa0\\xa0\\xa0\\xa0\\xa0\\xa0\\xa0\\xa0\\xa0\\xa0 ??\\xa0\\xa0\\xa0\\xa0\\xa0\\xa0\\xa0\\xa0\\xa0\\xa0\\xa0\\xa0\\xa0\\xa0\\xa0 ??',\n",
       "        1],\n",
       "       [\"In a few years it doesn't matter whether you bought\\xa0#BTC\\xa0at $17k, $18k, or $19k.\",\n",
       "        0],\n",
       "       ['If I send you 1\\xa0#ETH\\xa0or\\xa0#BNB\\xa0~ what will you do with it ? ??',\n",
       "        1],\n",
       "       [\"??BREAKING: The FTX ''hacker'' is dumping\\xa0#ETH!\", 2],\n",
       "       ['Shiba Inu Army Reaches New Major Milestone in Just 2\\xa0Days #ETH\\xa0#WHALES\\xa0#SHIBARMY\\xa0#ADOPTION',\n",
       "        2],\n",
       "       ['Anyone who doesn\\x92t think  @Ripple and #XRP are going to be around 10 yrs from now hasn\\x92t been paying attention. The fact that #XRP has remained a top 10 digital asset for nearly a decade, despite hatred by many leaders in the space, and the regulatory attack, really says it all.',\n",
       "        0],\n",
       "       ['#Ripple CEO Brad Garlinghouse said that final arguments in the #XRP lawsuit would be presented to the presiding judge by the end of November. From then, it could take two to six months to close the case, depending on how long the judge takes to decide',\n",
       "        1],\n",
       "       ['Good weekend?? Will there be a #GEM #x1000 again? ??Show me something ???????#Crypto #BTC #Ethereum #altcoin #dogelonmars #CryptocurrencyNews #X100GEM #CQT #TWT #XRP #doge #SHIB #USDC #ETH #SOL #ADA #LUNC #DGB #BNB #MATIC #APEC2022',\n",
       "        1],\n",
       "       [\"#Cardano's Midnight is an example of how their developers think about decentralization and why #ADA isn't going anywhere. A private blockchain with a backdoor ??#Shibarium Layer 2 will be fully decentralized and $BONE & $SHIB will lead the way\",\n",
       "        0],\n",
       "       ['#Bitcoin WILL hit $300k #ethereum WILL hit $50k #matic WILL hit $40 #ada WILL hit $40 THIS is programmed. ??????But if they don\\x92t it\\x92s your fault and you should have bought more and you should have told more of your friends about it',\n",
       "        0],\n",
       "       ['$DOGE is going to be @realDonaldTrump campaign token ! @elonmusk you did it again !\\xa0#DOGE\\xa0to the moon',\n",
       "        0],\n",
       "       ['#DOGE\\xa0will breakout after Trump comeback?', 0],\n",
       "       ['Just waiting for the day when\\xa0#doge\\xa0has its own emoji like\\xa0#bnb\\xa0and\\xa0#btc\\xa0@elonmusk\\xa0#dogecoin',\n",
       "        1],\n",
       "       ['Thinking of investing $100K into\\xa0#DOGE.\\xa0Think I should, or what other coin should I choose?',\n",
       "        1],\n",
       "       ['GOOD MORNING\\xa0#DOGE\\xa0FAMILY! ??', 0],\n",
       "       [\"I don't see how anyone is even left to sell, we had so many black swan events back-to-back... I am accumulating heavy on my favorite bags such as: #BNB #LUNC #LTC #SOL #MATIC #ETH I have still nearly 7 figures left to buy, which ones am I missing??? ??\",\n",
       "        0],\n",
       "       ['If your friends are telling you to buy these\\xa0#Altcoins,\\xa0never let them\\xa0go! #ETH\\xa0#BNB\\xa0#GALA\\xa0#RUNE\\xa0#GMX\\xa0#QNT',\n",
       "        0],\n",
       "       [\"#QNT\\xa0could be a long-term bet for your bear market portfolio, here's why\",\n",
       "        0],\n",
       "       [\"$BTC\\xa0the market crash is another negative effect of crypto centralization. You put banks and government to secure crypto but the reason crypto exist is because you don't trust banks and government. think guys think the shit started when crypto started to get centralized.\",\n",
       "        2],\n",
       "       ['$BTC\\xa0Only an idiot would be buying right now..if DCG collapses then its really all over..institutional investors are OUT and wont come back until there is stiff regulation. Miners are about to dump as they are losing money hand over fist..but hey...listen to moonboy BOTs on here and go all in!! I mean seriously what could possibly go wrong!!??',\n",
       "        2],\n",
       "       ['$BTC\\xa0so wonderful to see the red color everywhere ?? I hope that Bitcoin dump to 15k ??????',\n",
       "        2],\n",
       "       ['$BTC\\xa0The BTC whale, which has been dormant since July 2017, sold all of its BTC yesterday. From $17M invested in 2017, he got $108M, even at such a low bitcoin price - this is a great result.',\n",
       "        0],\n",
       "       ['$BTC\\xa0began a brutal intimidation of the market. GBTC (half a year ago, the head said that they would feel great at a price of 10k, the ruin associated with FTX, every taxi driver and every housewife knows that the market will fall))). a sure sign (100%) of a BULL MARKET!!!',\n",
       "        0],\n",
       "       ['$BTC\\xa0Another three weeks and I think this one is going to start climbing back up ??',\n",
       "        0],\n",
       "       ['$BTC\\xa0rememeber DONT sell in a down market and you do just fine. Buy more to lower your DCA... but DONT SELL',\n",
       "        0],\n",
       "       [\"$BTC\\xa0I'm still bullish BTC won't fall below 15k Paperhands are being removed and replaced with HODLERS for the start of the bullrun\",\n",
       "        0],\n",
       "       ['?? ??~ 73% of all bitcoins in circulation have not been active for more than a year.\\xa0$BTC\\xa0$',\n",
       "        0],\n",
       "       ['$BTC\\xa0after a long analysis, BTC was expected to fall before the end of the year. 2023 will be our best chance! ??',\n",
       "        0],\n",
       "       ['Bitcoin is the first Coin and will be the First Rank Always !\\xa0$BTC\\xa0is the Future ??',\n",
       "        0],\n",
       "       ['$BTC\\xa0today was a painful day for everyone in the crypto industry. we are waiting for new bankruptcies of crypto-exchanges tomorrow.',\n",
       "        2],\n",
       "       [\"$BTC\\xa0gold/silver are basically the only things that's stood the test of time for a value. BTCs value is based on the dollar, if the dollar drops that would mean the value of btc drops. remember dollar used to be backed by gold, not anymore.\",\n",
       "        1],\n",
       "       ['$BTC\\xa0DCG is going down..and then its really over. The whole crypto space may never recover. Ive moved out to all cash..',\n",
       "        2],\n",
       "       ['$BTC\\xa0Anyone who thinks it is possible to make a fortune from crypto needs to reconsider that. This is the biggest illusion and has proven to fail every time.',\n",
       "        2],\n",
       "       ['$BTC\\xa0The\\xa0miners\\xa0sold\\xa010%\\xa0of\\xa0the\\xa0accumulated\\xa0BTC.\\xa0In\\xa0the\\xa0last\\xa0week\\xa0alone,\\xa0miners\\xa0have\\xa0reduced\\xa0their\\xa0reserves\\xa0by\\xa010%.\\xa0More\\xa0than\\xa07,500\\xa0BTC\\xa0were\\xa0sold\\xa0in\\xa0a\\xa0week\\xa0-\\xa0this\\xa0is\\xa0a\\xa0record\\xa0asset\\xa0dump\\xa0in\\xa0a\\xa0week,\\xa0the\\xa0last\\xa0time\\xa0this\\xa0was\\xa0observed\\xa0in\\xa0September\\xa02018.\\xa0The\\xa0reason\\xa0is\\xa0obvious\\xa0-\\xa0the\\xa0collapse\\xa0of\\xa0FTX\\xa0and\\xa0the\\xa0fall\\xa0of\\xa0the\\xa0market.\\xa0The\\xa0capitulation\\xa0of\\xa0miners\\xa0is\\xa0a\\xa0good\\xa0signal\\xa0for\\xa0a\\xa0market\\xa0reversal,\\xa0but\\xa0can\\xa0the\\xa0sale\\xa0of\\xa010%\\xa0of\\xa0reserves\\xa0be\\xa0called\\xa0capitulation?\\xa0I\\xa0think\\xa0no.',\n",
       "        2],\n",
       "       ['$BTC\\xa0Between\\xa0and\\xa0is\\xa0nothing.\\xa0According\\xa0to\\xa0whalemap,\\xa0there\\xa0is\\xa0a\\xa0void\\xa0between\\xa0the\\xa0and\\xa0BTC\\xa0price\\xa0range.\\xa0That\\xa0is\\xa0why\\xa0it\\xa0is\\xa0so\\xa0important\\xa0to\\xa0keep\\xa0the\\xa0level\\xa0at\\xa016,000,\\xa0otherwise,\\xa0the\\xa0price\\xa0can\\xa0instantly\\xa0squeeze\\xa0to\\xa013,000\\xa0and\\xa0even\\xa0stay\\xa0there.\\xa0We\\xa0are\\xa0still\\xa0trading\\xa0below\\xa0the\\xa0selling\\xa0price,\\xa0which\\xa0is\\xa0a\\xa0good\\xa0sign\\xa0that\\xa0accumulation\\xa0is\\xa0possible\\xa0for\\xa0the\\xa0whales.\\xa0??\\xa0#bitcoin',\n",
       "        2],\n",
       "       ['$BTC\\xa0the\\xa0opportunity\\xa0for\\xa0us\\xa0to\\xa0buy\\xa0at\\xa0affordable\\xa0price\\xa0great\\xa0position\\xa0accummulate\\xa0on\\xa0dip\\xa0????????',\n",
       "        0],\n",
       "       ['$BTC\\xa0TOOOOOO many great deals out there, cant even post on one of em, buy em all lmao...',\n",
       "        0],\n",
       "       ['$BTC\\xa0the\\xa0??\\xa0are\\xa0selling\\xa0thier\\xa0average\\xa0cost\\xa0to\\xa0buy\\xa0what\\xa0appears\\xa0to\\xa0be\\xa0another\\xa0dip\\xa0down\\xa0to\\xa012-13k\\xa0hold\\xa0the\\xa0ship\\xa0straight\\xa0and\\xa0weather\\xa0the\\xa0storm\\xa0HODL',\n",
       "        0],\n",
       "       [\"$BTC\\xa0OMg Elon Musk entry Today It's big undegraund New 25 % Big Pump today Buy now fast\",\n",
       "        0],\n",
       "       ['$BTC\\xa0Want to know why Bitcoin just had a mini stroke because Biden wants to have structured crypto regulations. The government is really finding the crypto space a threat to the USD. What are you next moves ?',\n",
       "        1],\n",
       "       ['$ETH\\xa0is living its last couple of years. Cardano is seriously taking over. The more you research about Cardano, the more scared you will be',\n",
       "        2],\n",
       "       ['We are going to join on\\xa0$ETH\\xa0Network next year. We believe\\xa0#ETH\\xa0will help\\xa0#GLB\\xa0Platform in future!',\n",
       "        0],\n",
       "       ['$ETH\\xa0If yr wondering when good price, to buy ETH, ya looking for a good signal, ummm, $1,120 is a pretty big signal!!!',\n",
       "        0],\n",
       "       [\"$ETH\\xa0I'm just here to remind you that google killed netscape overnight. In the tech world it doesn't matter how is your current market share. If you are technically inferior you will be replaced. This will be the case when Cardano replaces Ethereum. You'll see soon\",\n",
       "        2],\n",
       "       ['$ETH\\xa010\\xa0billion\\xa0tsunami\\xa0coming\\xa0to\\xa0the\\xa0woods\\xa0and\\xa0flush\\xa0you\\xa0bull\\xa0bois\\xa0out\\xa0to\\xa0no\\xa0man\\x92s\\xa0land.\\xa0guess\\xa0who\\xa0now?\\xa0DCG!!!!!\\xa0REKTttttttttttttting\\xa0you.',\n",
       "        2],\n",
       "       [\"$ETH\\xa0lmao it's like building on a crappy design foundation and make other crappy layer 2 bc the layer 1 sucks at everything!!\",\n",
       "        2],\n",
       "       ['$ETH\\xa0FTX dumping and soon lido and matic will fall. Most VC chains will fall. Get ready for the winter bois.',\n",
       "        2],\n",
       "       [\"$ETH\\xa0this going to be a long bleed for all of us. It's just when you bought the coin. Next BTc halving is in 1 year and 100 days or so. So yeah that's how long this bleeding is going to be. With FTX selling has well most alts and BTC will bleed.\",\n",
       "        2],\n",
       "       ['??\\xa0 Our prediction algorithm estimates\\xa0$ETH\\xa0will increase by 15.32% and reach $1,347.39 by Nov 25, 2022. Get more insights ??',\n",
       "        0],\n",
       "       ['$ETH\\xa0why\\xa0are\\xa0my\\xa0ETH\\xa0investments\\xa0going\\xa0down\\xa0so\\xa0much\\xa0while\\xa0my\\xa0others\\xa0remian\\xa0somewhat\\xa0heathy?\\xa0Can\\xa0someone\\xa0please\\xa0explain\\xa0how\\xa0this\\xa0happens?',\n",
       "        2],\n",
       "       ['$ETH\\xa0It\\x92s\\xa0obviously\\xa0going\\xa0down\\xa0to\\xa0below\\xa0one\\xa0thousand\\xa0soon.\\xa0How\\xa0could\\xa0you\\xa0not\\xa0have\\xa0predicted\\xa0it\\xa0bull\\xa0bois.\\xa0Fool\\xa0go\\xa0back\\xa0to\\xa0your\\xa0woods\\xa0and\\xa0stop\\xa0coming\\xa0out\\xa0to\\xa0party\\xa0when\\xa0there\\xa0is\\xa0a\\xa0little\\xa0rise.\\xa0haha',\n",
       "        2],\n",
       "       ['$ETH\\xa0co-founder\\xa0Tells\\xa0Why\\xa0He\\xa0is\\xa0Unhappy\\xa0With\\xa0Singapore\\x92s\\xa0Regulatory\\xa0Approach',\n",
       "        1],\n",
       "       [\"$ETH\\xa0will be dead in 5 years. If upgrade don't fix this sinking ship. ETH will be replace by cardano.\",\n",
       "        2],\n",
       "       [\"$ETH\\xa0It seems, I thought about ETH at Bottom before. But it's really on Bottom. This Alt coin coming up next month, Let's getting on\",\n",
       "        0],\n",
       "       ['$ETH\\xa0only a clown will buy this coin at this price. Even Vatalik sold his ETH lmao bc its worthless.',\n",
       "        2],\n",
       "       ['$ETH\\xa0is unscalable, the power Cardano will be very hard to deny in short, we are talking about weeks away',\n",
       "        2],\n",
       "       ['$ETH\\xa0those\\xa0of\\xa0who\\xa0think\\xa0others\\xa0who\\xa0frequent\\xa0casinos\\xa0are\\xa0just\\xa0kids,\\xa0addicted\\xa0gambler\\xa0bla\\xa0bla\\xa0bla\\xa0so\\xa0what!\\xa0They\\xa0have\\xa0two\\xa0pairs\\xa0of\\xa0eyes.\\xa0One\\xa0to\\xa0be\\xa0a\\xa0good\\xa0boy\\xa0but\\xa0when\\xa0sky\\xa0turns\\xa0dark\\xa0they\\xa0r\\xa0hunters\\xa0in\\xa0the\\xa0woods.\\xa0This\\xa0is\\xa0the\\xa0most\\xa0scariest\\xa0type\\xa0of\\xa0alien.\\xa0a\\xa0two\\xa0face\\xa0bull\\xa0hypocrite!\\xa0haha',\n",
       "        2],\n",
       "       ['$ETH\\xa0rumours\\xa0of\\xa0grayscale\\xa0In\\xa0Coinmarketcap.\\xa0do\\xa0you\\xa0still\\xa0trust\\xa0the\\xa0bulls\\xa0to\\xa0sell\\xa0your\\xa0house.\\xa0This\\xa0makes\\xa0the\\xa0bull\\xa0so\\xa0irresponsible\\xa0and\\xa0greedy.\\xa0You\\xa0will\\xa0end\\xa0up\\xa0in\\xa0the\\xa0trash\\xa0if\\xa0you\\xa0believe\\xa0them.\\xa0Pending\\xa0crash\\xa0choose\\xa0a\\xa0five\\xa0star\\xa0hotel\\xa0over\\xa0slum\\xa0reserved\\xa0for\\xa0the\\xa0bull\\xa0bois.',\n",
       "        2],\n",
       "       ['$ETH\\xa0careful\\xa0ETH\\xa0May\\xa0go\\xa0down\\xa0to\\xa0on\\xa0the\\xa0next\\xa0crash.\\xa0Don\\x92t\\xa0listen\\xa0to\\xa0bull\\xa0bois,\\xa0they\\xa0want\\xa0you\\xa0to\\xa0sell\\xa0your\\xa0house\\xa0your\\xa0wife\\xa0your\\xa0assets\\xa0just\\xa0to\\xa0buy\\xa0crypto.',\n",
       "        2],\n",
       "       [\"$ETH\\xa0This week we will get stablecoins in cardano, also a privacy sidechain...goodbye eth, we appreciate what you did for the space but you are old tech, it's over, people will notice soon\",\n",
       "        2],\n",
       "       ['$ETH\\xa0if\\xa0btc\\xa0goes\\xa0back\\xa0to\\xa03k.\\xa0your\\xa0eth\\xa0will\\xa0be\\xa0worth\\xa010\\xa0times\\xa0or\\xa0more\\xa0less.\\xa0You\\xa0bulls\\xa0are\\xa0doom.\\xa0from\\xa069k\\xa0to\\xa03k.\\xa0This\\xa0is\\xa0serious.\\xa0doesn\\x92t\\xa0it\\xa0ring\\xa0alarm\\xa0bells\\xa0now?\\xa0dropped\\xa0from\\xa069k!!!!!!!!!!',\n",
       "        2],\n",
       "       ['$ETH\\xa0btc\\xa0=\\xa03k\\xa0eth\\xa0=\\xa0you\\xa0will\\xa0get\\xa0rekt\\xa0bull.\\xa0no\\xa0one\\xa0will\\xa0be\\xa0able\\xa0to\\xa0recognise\\xa0you\\xa0anymore.\\xa0liar\\xa0liar\\xa0pants\\xa0on\\xa0fire.',\n",
       "        2],\n",
       "       ['$XRP\\xa0Man, can yall like this post 5 thousand times so we can all stop looking at the \"starting to hate xrp\" comment????',\n",
       "        1],\n",
       "       [\"$XRP\\xa0The biggest mistake most people make is overestimating what they can do in 1 year and underestimating what they can do in 10 years. Don't make that mistake with XRP!!!\",\n",
       "        0],\n",
       "       ['$XRP\\xa0just a reminder that vivarantex has mental health issues and clearly has no clue what he is talking about.',\n",
       "        1],\n",
       "       ['$XRP\\xa0Genuinely\\xa0feel\\xa0that\\xa0buying\\xa0XRP\\xa0now\\xa0is\\xa0like\\xa0buying\\xa0Amazon\\xa0in\\xa0the\\xa01990s.',\n",
       "        0],\n",
       "       ['$XRP\\xa0get\\xa0ready\\xa0for\\xa0the\\xa0craziest\\xa0week\\xa0in\\xa0XRP\\xa0history.\\xa0Why\\xa0is\\xa0the\\xa0CTO\\xa0at\\xa0Ripple\\xa0wearing\\xa0an\\xa0astronaut\\xa0suit??\\xa0??',\n",
       "        0],\n",
       "       [\"$XRP\\xa0only the path to enlightenment is to see beyond the lie's of the system\",\n",
       "        0],\n",
       "       ['$XRP\\xa0bullish everyone be ready, like you have never seen before, xrp to the moon',\n",
       "        0],\n",
       "       [\"$XRP\\xa0nothing is guaranteed but I'd rather follow a crypto where you know who is the CEO and who he is working with.\",\n",
       "        0],\n",
       "       ['$XRP\\xa0I\\xa0love\\xa0XRP,\\xa0but\\xa0what\\xa0are\\xa0the\\xa0real\\xa0chances\\xa0of\\xa0them\\xa0winning?\\xa0The\\xa0SEC\\xa0has\\xa0so\\xa0much\\xa0power.',\n",
       "        0],\n",
       "       ['$XRP\\xa0Aim to get 50k XRP whilst it is this cheap or you will regret it when it is very expensive.',\n",
       "        0],\n",
       "       [\"$XRP\\xa0just a reminder that Visa just killed the only xrp use case. Created its own blockchain for retail and companies international transactions. There's no way the banking sector picks xrp over visa. It's over for this coin.\",\n",
       "        2],\n",
       "       ['$XRP\\xa0brainwashed idiots that hit on xrp think that cardano and BTC will take over',\n",
       "        0],\n",
       "       ['$XRP\\xa0HODL and become a millionaire when the SEC lawsuit settles and Ripple wins in Q1 2023! ????????????',\n",
       "        0],\n",
       "       ['$XRP\\xa0ill\\xa0never\\xa0understand\\xa0why\\xa0people\\xa0even\\xa0THINK\\xa0about\\xa0selling\\xa0XRP\\xa0nevermind\\xa0SELLING\\xa0IT!!!',\n",
       "        0],\n",
       "       ['$XRP\\xa0Ok Vivaratex all good . Thanks for the Infos but im still buying so no need to help . God bless you',\n",
       "        1],\n",
       "       [\"$CRO\\xa0is going to 0. It's freaking insolvent at this point. This is the last leg before user funds locking\",\n",
       "        2],\n",
       "       ['$CRO\\xa0I\\xa0love\\xa0everyone\\xa0is\\xa0calling\\xa0the\\xa0end\\xa0of\\xa0cro,\\xa0??\\xa0havw\\xa0you\\xa0guys\\xa0seen\\xa0the\\xa0market\\xa0as\\xa0a\\xa0whole\\xa0and\\xa0not\\xa0just\\xa0Cro?',\n",
       "        1],\n",
       "       ['$CRO\\xa0i\\xa0think\\xa0its\\xa0crazy\\xa0they\\xa0would\\xa0spend\\xa0all\\xa0the\\xa0money\\xa0on\\xa0sponsoring\\xa0the\\xa0world\\xa0cup\\xa0but\\xa0not\\xa0pump\\xa0up\\xa0coin\\xa0what\\xa0is\\xa0going\\xa0on??',\n",
       "        0],\n",
       "       ['$CRO\\xa0get\\xa0your\\xa0money\\xa0out\\xa0if\\xa0this,\\xa0there\\xa0is\\xa0every\\xa0chance\\xa0that\\xa0this\\xa0is\\xa0the\\xa0next\\xa0FTX.\\xa0Dont\\xa0risk\\xa0it',\n",
       "        2],\n",
       "       [\"$CRO\\xa0We are about to be seen by 5 BILLION people! most of them may not have a clue about crypto! let's CRO!\",\n",
       "        0],\n",
       "       ['$CRO\\xa0wont make it to the end of 2023, it will be a distant memory by then. Super centralized',\n",
       "        2],\n",
       "       ['$CRO\\xa0So the world cup started and all they announced was a trading \"competition\". Lame',\n",
       "        1],\n",
       "       ['$CRO\\xa0just\\xa0like\\xa0the\\xa0super\\xa0bowl\\xa0it\\xa0being\\xa0a\\xa0sponser\\xa0will\\xa0not\\xa0make\\xa0it\\xa0fly\\xa0take\\xa0note',\n",
       "        1],\n",
       "       ['$CRO so\\xa0strange\\xa0to\\xa0see\\xa0everyone\\xa0bullish.\\xa0The\\xa0weekly\\xa0trend\\xa0is\\xa0continously\\xa0downward\\xa0since\\xa0one\\xa0year,\\xa0no\\xa0sign\\xa0or\\xa0news\\xa0showing\\xa0something\\xa0better.\\xa0Will\\xa0Cronos\\xa0follow\\xa0Ftx?',\n",
       "        1],\n",
       "       ['$THETA\\xa0gonna\\xa0pump\\xa0before\\xa0xmas\\xa0????????????????????????????????????????????',\n",
       "        0],\n",
       "       ['$THETA\\xa0theta ready to fly', 0],\n",
       "       ['$MANA\\xa0i\\xa0see\\xa0this\\xa0as\\xa0a\\xa05-10\\xa0yr\\xa0plan\\xa0when\\xa0all\\xa0gamers\\xa0get\\xa0really\\xa0into\\xa0metaverse',\n",
       "        0],\n",
       "       ['$MANA\\xa0has\\xa0a\\xa0great\\xa0concept,\\xa0but\\xa0need\\xa0more\\xa0supporters,\\xa0otherwise\\xa0is\\xa0just\\xa0another\\xa0one\\xa0on\\xa0the\\xa0crowd\\x85\\xa0hope\\xa0this\\xa0project\\xa0succeed',\n",
       "        1],\n",
       "       ['$MANA\\xa0Ozzfest is going to be on Decentraland on the 10th of November. Do you all think it will pump?',\n",
       "        1],\n",
       "       ['$MANA\\xa0TELL\\xa0ME\\xa0WHY\\xa0I\\xa0SHOULD\\xa0INVEST\\xa0IN\\xa0MANA.\\xa0WHAT\\xa0IS\\xa0MANA\\xa0FOR?',\n",
       "        1],\n",
       "       ['$LRC\\xa0Anyone know the reason for LRC pumping? I have bags, just curious why its the only thing in my portfolio pumpin lol! :)',\n",
       "        0],\n",
       "       ['$LRC\\xa0we\\xa0need\\xa0more\\xa0market\\xa0cap\\x85.sure\\xa0whales\\xa0have\\xa0to\\xa0add\\xa0this\\xa0coin\\xa0to\\xa0there\\xa0wallet??',\n",
       "        1],\n",
       "       ['$APE\\xa0Beware\\xa0there\\xa0is\\xa0a\\xa0big\\xa0dump\\xa0coming', 2],\n",
       "       ['What is something you would like to see\\xa0$APE\\xa0developers implement into their platform?',\n",
       "        1],\n",
       "       ['$APE\\xa0everyone tell me what they think will happen with ape...',\n",
       "        1]], dtype=object)"
      ]
     },
     "execution_count": 5,
     "metadata": {},
     "output_type": "execute_result"
    }
   ],
   "source": [
    "#train test val split\n",
    "from sklearn.model_selection import train_test_split\n",
    "train_x, test_x, train_y, test_y = train_test_split(all_x, all_y, test_size = .4, random_state = seed)\n",
    "test_x, val_x, test_y, val_y = train_test_split(test_x, test_y, test_size = .5, random_state = seed)\n",
    "\n",
    "# verify shapes\n",
    "print(train_x.shape, test_x.shape, train_y.shape, test_y.shape)\n",
    "print(test_x.shape, val_x.shape, test_y.shape, val_y.shape)\n",
    "all_tweets"
   ]
  },
  {
   "cell_type": "code",
   "execution_count": 6,
   "metadata": {},
   "outputs": [],
   "source": [
    "# dataframe equivalents of splits\n",
    "train_x_df = pd.DataFrame(train_x)\n",
    "test_x_df = pd.DataFrame(test_x)\n",
    "val_x_df = pd.DataFrame(val_x)"
   ]
  },
  {
   "cell_type": "code",
   "execution_count": 7,
   "metadata": {},
   "outputs": [
    {
     "name": "stdout",
     "output_type": "stream",
     "text": [
      "tf.Tensor(\n",
      "[[0.]\n",
      " [2.]\n",
      " [0.]\n",
      " [1.]\n",
      " [0.]\n",
      " [2.]\n",
      " [2.]\n",
      " [2.]\n",
      " [0.]\n",
      " [1.]\n",
      " [2.]\n",
      " [0.]\n",
      " [2.]\n",
      " [0.]\n",
      " [2.]\n",
      " [2.]\n",
      " [2.]\n",
      " [2.]\n",
      " [0.]\n",
      " [0.]\n",
      " [0.]\n",
      " [1.]\n",
      " [0.]\n",
      " [0.]\n",
      " [0.]\n",
      " [0.]\n",
      " [0.]\n",
      " [2.]\n",
      " [2.]\n",
      " [1.]\n",
      " [1.]\n",
      " [2.]\n",
      " [1.]\n",
      " [1.]\n",
      " [1.]\n",
      " [2.]\n",
      " [1.]\n",
      " [0.]\n",
      " [0.]\n",
      " [1.]], shape=(40, 1), dtype=float32)\n"
     ]
    }
   ],
   "source": [
    "# convert y labels to tensors\n",
    "train_y = tf.convert_to_tensor(np.asarray(train_y).astype('float32'))\n",
    "test_y = tf.convert_to_tensor(np.asarray(test_y).astype('float32'))\n",
    "val_y = tf.convert_to_tensor(np.asarray(val_y).astype('float32'))\n",
    "print(val_y)"
   ]
  },
  {
   "cell_type": "code",
   "execution_count": 8,
   "metadata": {},
   "outputs": [],
   "source": [
    "def getClassCounts(dataset):\n",
    "    bullishCount = 0\n",
    "    neutralCount = 0\n",
    "    bearishCount = 0\n",
    "    \n",
    "    for i in dataset:\n",
    "        if (i == 0):\n",
    "            bullishCount = bullishCount + 1\n",
    "        elif (i == 1):\n",
    "            neutralCount = neutralCount + 1\n",
    "        elif (i == 2):\n",
    "            bearishCount = bearishCount + 1\n",
    "    return bullishCount, neutralCount, bearishCount"
   ]
  },
  {
   "cell_type": "code",
   "execution_count": 9,
   "metadata": {},
   "outputs": [],
   "source": [
    "from matplotlib import pyplot as plt\n",
    "# check 8, 10\n",
    "bullishTrainSize, neutralTrainSize, bearishTrainSize = getClassCounts(train_y)\n",
    "bullishTestSize, neutralTestSize, bearishTestSize = getClassCounts(test_y)\n",
    "bullishValSize, neutralValSize, bearishValSize = getClassCounts(val_y)"
   ]
  },
  {
   "cell_type": "code",
   "execution_count": 10,
   "metadata": {},
   "outputs": [
    {
     "data": {
      "text/plain": [
       "<BarContainer object of 3 artists>"
      ]
     },
     "execution_count": 10,
     "metadata": {},
     "output_type": "execute_result"
    },
    {
     "data": {
      "image/png": "[encoded data removed]",
      "text/plain": [
       "<Figure size 720x360 with 1 Axes>"
      ]
     },
     "metadata": {
      "needs_background": "light"
     },
     "output_type": "display_data"
    }
   ],
   "source": [
    "classes = ['bullish', 'neutral', 'bearish']\n",
    "fig = plt.figure(figsize = (10, 5))\n",
    "plt.title(\"Train class sizes\")\n",
    "plt.bar(classes,[bullishTrainSize, neutralTrainSize, bearishTrainSize])"
   ]
  },
  {
   "cell_type": "code",
   "execution_count": 83,
   "metadata": {},
   "outputs": [
    {
     "name": "stdout",
     "output_type": "stream",
     "text": [
      "9\n"
     ]
    },
    {
     "data": {
      "image/png": "[encoded data removed]",
      "text/plain": [
       "<Figure size 720x360 with 1 Axes>"
      ]
     },
     "metadata": {
      "needs_background": "light"
     },
     "output_type": "display_data"
    }
   ],
   "source": [
    "fig = plt.figure(figsize = (10, 5))\n",
    "plt.title(\"Test class sizes\")\n",
    "plt.bar(classes,[bullishTestSize, neutralTestSize, bearishTestSize])"
   ]
  },
  {
   "cell_type": "code",
   "execution_count": 12,
   "metadata": {},
   "outputs": [
    {
     "data": {
      "text/plain": [
       "<BarContainer object of 3 artists>"
      ]
     },
     "execution_count": 12,
     "metadata": {},
     "output_type": "execute_result"
    },
    {
     "data": {
      "image/png": "[encoded data removed]",
      "text/plain": [
       "<Figure size 720x360 with 1 Axes>"
      ]
     },
     "metadata": {
      "needs_background": "light"
     },
     "output_type": "display_data"
    }
   ],
   "source": [
    "bullishValSize, neutralValSize, bearishValSize\n",
    "fig = plt.figure(figsize = (10, 5))\n",
    "plt.title(\"Validation class sizes\")\n",
    "plt.bar(classes,[bullishValSize, neutralValSize, bearishValSize])"
   ]
  },
  {
   "cell_type": "code",
   "execution_count": 13,
   "metadata": {},
   "outputs": [
    {
     "name": "stderr",
     "output_type": "stream",
     "text": [
      "All model checkpoint layers were used when initializing TFBertForSequenceClassification.\n",
      "\n",
      "Some layers of TFBertForSequenceClassification were not initialized from the model checkpoint at bert-base-cased and are newly initialized: ['classifier']\n",
      "You should probably TRAIN this model on a down-stream task to be able to use it for predictions and inference.\n"
     ]
    }
   ],
   "source": [
    "# load model\n",
    "twitter_model = TFAutoModelForSequenceClassification.from_pretrained(\"bert-base-cased\", num_labels=3)"
   ]
  },
  {
   "cell_type": "code",
   "execution_count": 14,
   "metadata": {},
   "outputs": [],
   "source": [
    "loss_function = \"sparse_categorical_crossentropy\"\n",
    "opt = keras.optimizers.Adam(learning_rate=1e-5)\n",
    "twitter_model.compile(loss=loss_function, metrics=['accuracy'], optimizer=opt)"
   ]
  },
  {
   "cell_type": "code",
   "execution_count": 15,
   "metadata": {},
   "outputs": [
    {
     "data": {
      "text/plain": [
       "{'input_ids': array([[  101,   109,   149, ...,     0,     0,     0],\n",
       "       [  101,   109,   161, ...,     0,     0,     0],\n",
       "       [  101,   109,   161, ...,     0,     0,     0],\n",
       "       ...,\n",
       "       [  101,   108, 27378, ...,     0,     0,     0],\n",
       "       [  101,   108, 27378, ...,     0,     0,     0],\n",
       "       [  101,   109, 27269, ...,     0,     0,     0]]), 'token_type_ids': array([[0, 0, 0, ..., 0, 0, 0],\n",
       "       [0, 0, 0, ..., 0, 0, 0],\n",
       "       [0, 0, 0, ..., 0, 0, 0],\n",
       "       ...,\n",
       "       [0, 0, 0, ..., 0, 0, 0],\n",
       "       [0, 0, 0, ..., 0, 0, 0],\n",
       "       [0, 0, 0, ..., 0, 0, 0]]), 'attention_mask': array([[1, 1, 1, ..., 0, 0, 0],\n",
       "       [1, 1, 1, ..., 0, 0, 0],\n",
       "       [1, 1, 1, ..., 0, 0, 0],\n",
       "       ...,\n",
       "       [1, 1, 1, ..., 0, 0, 0],\n",
       "       [1, 1, 1, ..., 0, 0, 0],\n",
       "       [1, 1, 1, ..., 0, 0, 0]])}"
      ]
     },
     "execution_count": 15,
     "metadata": {},
     "output_type": "execute_result"
    }
   ],
   "source": [
    "# tokenize data\n",
    "tokenizer = AutoTokenizer.from_pretrained('bert-base-cased')\n",
    "train_tokenized = tokenizer(list(train_x_df[0]), return_tensors=\"np\", padding=True)\n",
    "test_tokenized = tokenizer(list(test_x_df[0]), return_tensors=\"np\", padding=True)\n",
    "val_tokenized = tokenizer(list(val_x_df[0]), return_tensors=\"np\", padding=True)\n",
    "\n",
    "train_tokenized"
   ]
  },
  {
   "cell_type": "code",
   "execution_count": 16,
   "metadata": {
    "scrolled": false
   },
   "outputs": [
    {
     "name": "stdout",
     "output_type": "stream",
     "text": [
      "Epoch 1/9\n",
      "4/4 [==============================] - 21s 2s/step - loss: 6.9800 - accuracy: 0.3667 - val_loss: 6.7207 - val_accuracy: 0.3500\n",
      "Epoch 2/9\n",
      "4/4 [==============================] - 3s 875ms/step - loss: 7.0966 - accuracy: 0.3833 - val_loss: 4.5706 - val_accuracy: 0.2500\n",
      "Epoch 3/9\n",
      "4/4 [==============================] - 3s 879ms/step - loss: 5.0127 - accuracy: 0.3167 - val_loss: 1.0091 - val_accuracy: 0.3750\n",
      "Epoch 4/9\n",
      "4/4 [==============================] - 3s 880ms/step - loss: 2.2625 - accuracy: 0.2667 - val_loss: 2.1206 - val_accuracy: 0.4000\n",
      "Epoch 5/9\n",
      "4/4 [==============================] - 3s 882ms/step - loss: 2.3175 - accuracy: 0.3583 - val_loss: 2.1312 - val_accuracy: 0.4250\n",
      "Epoch 6/9\n",
      "4/4 [==============================] - 3s 881ms/step - loss: 1.7795 - accuracy: 0.4000 - val_loss: 1.3038 - val_accuracy: 0.4500\n",
      "Epoch 7/9\n",
      "4/4 [==============================] - 3s 885ms/step - loss: 1.5704 - accuracy: 0.4000 - val_loss: 1.0986 - val_accuracy: 0.5000\n",
      "Epoch 8/9\n",
      "4/4 [==============================] - 3s 882ms/step - loss: 1.1412 - accuracy: 0.4083 - val_loss: 1.0986 - val_accuracy: 0.5500\n",
      "Epoch 9/9\n",
      "4/4 [==============================] - 3s 900ms/step - loss: 1.2585 - accuracy: 0.4250 - val_loss: 1.0986 - val_accuracy: 0.5500\n"
     ]
    },
    {
     "data": {
      "text/plain": [
       "<keras.callbacks.History at 0x288d5b0e588>"
      ]
     },
     "execution_count": 16,
     "metadata": {},
     "output_type": "execute_result"
    }
   ],
   "source": [
    "twitter_model.fit(train_tokenized.data, train_y, epochs=9, batch_size=30, validation_data=(val_tokenized.data, val_y))"
   ]
  },
  {
   "cell_type": "code",
   "execution_count": 13,
   "metadata": {},
   "outputs": [
    {
     "name": "stderr",
     "output_type": "stream",
     "text": [
      "WARNING:absl:Found untraced functions such as embeddings_layer_call_fn, embeddings_layer_call_and_return_conditional_losses, encoder_layer_call_fn, encoder_layer_call_and_return_conditional_losses, pooler_layer_call_fn while saving (showing 5 of 1050). These functions will not be directly callable after loading.\n"
     ]
    },
    {
     "name": "stdout",
     "output_type": "stream",
     "text": [
      "INFO:tensorflow:Assets written to: 55\\saved_model\\1\\assets\n"
     ]
    },
    {
     "name": "stderr",
     "output_type": "stream",
     "text": [
      "INFO:tensorflow:Assets written to: 55\\saved_model\\1\\assets\n"
     ]
    }
   ],
   "source": [
    "twitter_model.save_pretrained(\"55\", saved_model=True)"
   ]
  },
  {
   "cell_type": "code",
   "execution_count": 77,
   "metadata": {},
   "outputs": [],
   "source": [
    "import math\n",
    "def evaluate(predictions, true_y):\n",
    "    count = 0\n",
    "    counter = 0\n",
    "    zCounter = 0\n",
    "    for i in predictions:\n",
    "        if (i == true_y[counter]):\n",
    "            count = count + 1\n",
    "        if (i == true_y[counter] and i == 1):\n",
    "            zCounter = zCounter + 1\n",
    "        counter = counter + 1\n",
    "    print(zCounter)\n",
    "    return count / true_y.shape[0]"
   ]
  },
  {
   "cell_type": "code",
   "execution_count": 78,
   "metadata": {},
   "outputs": [
    {
     "data": {
      "text/plain": [
       "(40, 3)"
      ]
     },
     "execution_count": 78,
     "metadata": {},
     "output_type": "execute_result"
    }
   ],
   "source": [
    "logits = twitter_model.predict(test_tokenized.data)\n",
    "logits[0].shape"
   ]
  },
  {
   "cell_type": "code",
   "execution_count": 79,
   "metadata": {},
   "outputs": [
    {
     "data": {
      "text/plain": [
       "<tf.Tensor: shape=(40, 3), dtype=float32, numpy=\n",
       "array([[0.23884101, 0.38176265, 0.37939635],\n",
       "       [0.4025309 , 0.39003578, 0.20743331],\n",
       "       [0.39735112, 0.3250558 , 0.2775931 ],\n",
       "       [0.3699221 , 0.31272843, 0.31734943],\n",
       "       [0.385642  , 0.30325732, 0.31110075],\n",
       "       [0.38344577, 0.30618638, 0.31036785],\n",
       "       [0.39576247, 0.34147763, 0.26275992],\n",
       "       [0.3878001 , 0.3278946 , 0.28430527],\n",
       "       [0.36354154, 0.31085598, 0.3256024 ],\n",
       "       [0.2979317 , 0.3387778 , 0.3632905 ],\n",
       "       [0.33839437, 0.31431687, 0.34728876],\n",
       "       [0.37049538, 0.32242292, 0.30708167],\n",
       "       [0.3833228 , 0.32597306, 0.29070416],\n",
       "       [0.3725821 , 0.29918128, 0.32823658],\n",
       "       [0.38838103, 0.33148682, 0.28013217],\n",
       "       [0.3977295 , 0.3307644 , 0.27150604],\n",
       "       [0.34809354, 0.32718173, 0.32472473],\n",
       "       [0.33520666, 0.31760955, 0.3471838 ],\n",
       "       [0.38614026, 0.30172804, 0.31213173],\n",
       "       [0.32185918, 0.32451412, 0.3536267 ],\n",
       "       [0.37308973, 0.31681773, 0.31009245],\n",
       "       [0.38681445, 0.32059214, 0.29259342],\n",
       "       [0.36249122, 0.30311018, 0.33439863],\n",
       "       [0.38993275, 0.34758803, 0.26247922],\n",
       "       [0.40630552, 0.34575543, 0.247939  ],\n",
       "       [0.37082   , 0.30317688, 0.32600313],\n",
       "       [0.286895  , 0.33663207, 0.37647295],\n",
       "       [0.40925425, 0.3583088 , 0.23243693],\n",
       "       [0.40496606, 0.38086018, 0.21417376],\n",
       "       [0.3878225 , 0.3250406 , 0.2871369 ],\n",
       "       [0.3457033 , 0.32000205, 0.33429465],\n",
       "       [0.35723814, 0.31201175, 0.33075014],\n",
       "       [0.37991622, 0.3303135 , 0.28977025],\n",
       "       [0.3656823 , 0.30491403, 0.32940364],\n",
       "       [0.3737316 , 0.32555896, 0.30070943],\n",
       "       [0.27823484, 0.34625936, 0.37550583],\n",
       "       [0.37530127, 0.32204378, 0.30265492],\n",
       "       [0.40082315, 0.3508012 , 0.2483757 ],\n",
       "       [0.38237113, 0.33239192, 0.28523695],\n",
       "       [0.38920885, 0.31471238, 0.29607877]], dtype=float32)>"
      ]
     },
     "execution_count": 79,
     "metadata": {},
     "output_type": "execute_result"
    }
   ],
   "source": [
    "# make predictions on test dataset and apply softmax\n",
    "preds = tf.nn.softmax(logits[0])\n",
    "preds"
   ]
  },
  {
   "cell_type": "code",
   "execution_count": 80,
   "metadata": {},
   "outputs": [],
   "source": [
    "def get_predicted_class(predictions):\n",
    "    p = []\n",
    "    counter = 0\n",
    "    for i in predictions:\n",
    "        index = 0\n",
    "        max_probability = 0\n",
    "        for j in range(len(i)):\n",
    "            if (i[j] > max_probability):\n",
    "                index = j\n",
    "                max_probability = i[j]\n",
    "        p.insert(counter, index)\n",
    "        counter = counter + 1\n",
    "    return p"
   ]
  },
  {
   "cell_type": "code",
   "execution_count": 81,
   "metadata": {},
   "outputs": [
    {
     "name": "stdout",
     "output_type": "stream",
     "text": [
      "[1, 0, 0, 0, 0, 0, 0, 0, 0, 2, 2, 0, 0, 0, 0, 0, 0, 2, 0, 2, 0, 0, 0, 0, 0, 0, 2, 0, 0, 0, 0, 0, 0, 0, 0, 2, 0, 0, 0, 0]\n"
     ]
    }
   ],
   "source": [
    "# find the predicted class from probabilities\n",
    "class_preds = get_predicted_class(preds)\n",
    "print(class_preds)"
   ]
  },
  {
   "cell_type": "code",
   "execution_count": 82,
   "metadata": {},
   "outputs": [
    {
     "name": "stdout",
     "output_type": "stream",
     "text": [
      "0\n",
      "Accuracy:  50.0 %\n"
     ]
    }
   ],
   "source": [
    "print(\"Accuracy: \", evaluate(class_preds, test_y) * 100, \"%\")"
   ]
  },
  {
   "cell_type": "code",
   "execution_count": 68,
   "metadata": {},
   "outputs": [
    {
     "name": "stdout",
     "output_type": "stream",
     "text": [
      "[1, 0, 0, 0, 0, 0, 0, 0, 0, 2, 2, 0, 0, 0, 0, 0, 0, 2, 0, 2, 0, 0, 0, 0, 0, 0, 2, 0, 0, 0, 0, 0, 0, 0, 0, 2, 0, 0, 0, 0]\n",
      "tf.Tensor(\n",
      "[[0.]\n",
      " [0.]\n",
      " [1.]\n",
      " [0.]\n",
      " [1.]\n",
      " [0.]\n",
      " [0.]\n",
      " [2.]\n",
      " [0.]\n",
      " [2.]\n",
      " [0.]\n",
      " [2.]\n",
      " [2.]\n",
      " [2.]\n",
      " [0.]\n",
      " [0.]\n",
      " [0.]\n",
      " [1.]\n",
      " [2.]\n",
      " [1.]\n",
      " [2.]\n",
      " [1.]\n",
      " [2.]\n",
      " [0.]\n",
      " [1.]\n",
      " [2.]\n",
      " [2.]\n",
      " [1.]\n",
      " [0.]\n",
      " [1.]\n",
      " [0.]\n",
      " [1.]\n",
      " [2.]\n",
      " [0.]\n",
      " [0.]\n",
      " [2.]\n",
      " [0.]\n",
      " [0.]\n",
      " [0.]\n",
      " [0.]], shape=(40, 1), dtype=float32)\n"
     ]
    },
    {
     "data": {
      "text/plain": [
       "array([[17,  1,  1],\n",
       "       [ 7,  0,  2],\n",
       "       [ 9,  0,  3]], dtype=int64)"
      ]
     },
     "execution_count": 68,
     "metadata": {},
     "output_type": "execute_result"
    }
   ],
   "source": [
    "from sklearn.metrics import confusion_matrix\n",
    "from sklearn.metrics import recall_score\n",
    "from sklearn.metrics import precision_score\n",
    "from sklearn.metrics import f1_score\n",
    "print(class_preds)\n",
    "print(test_y)"
   ]
  },
  {
   "cell_type": "code",
   "execution_count": 70,
   "metadata": {},
   "outputs": [
    {
     "data": {
      "text/plain": [
       "array([[17,  1,  1],\n",
       "       [ 7,  0,  2],\n",
       "       [ 9,  0,  3]], dtype=int64)"
      ]
     },
     "execution_count": 70,
     "metadata": {},
     "output_type": "execute_result"
    }
   ],
   "source": [
    "sk.metrics.confusion_matrix(test_y, class_preds)"
   ]
  },
  {
   "cell_type": "code",
   "execution_count": 69,
   "metadata": {},
   "outputs": [
    {
     "name": "stdout",
     "output_type": "stream",
     "text": [
      "0.5\n",
      "0.3815789473684211\n",
      "0.5\n",
      "0.3383838383838384\n",
      "0.5\n",
      "0.329059829059829\n"
     ]
    }
   ],
   "source": [
    "print(sk.metrics.recall_score(test_y, class_preds, average='micro'))\n",
    "print(sk.metrics.recall_score(test_y, class_preds, average='macro'))\n",
    "print(sk.metrics.precision_score(test_y, class_preds, average='micro'))\n",
    "print(sk.metrics.precision_score(test_y, class_preds, average='macro'))\n",
    "print(sk.metrics.f1_score(test_y, class_preds, average='micro'))\n",
    "print(sk.metrics.f1_score(test_y, class_preds, average='macro'))"
   ]
  },
  {
   "cell_type": "code",
   "execution_count": 23,
   "metadata": {},
   "outputs": [
    {
     "data": {
      "text/plain": [
       "TensorShape([40, 3])"
      ]
     },
     "execution_count": 23,
     "metadata": {},
     "output_type": "execute_result"
    }
   ],
   "source": [
    "preds.shape"
   ]
  },
  {
   "cell_type": "code",
   "execution_count": null,
   "metadata": {
    "scrolled": true
   },
   "outputs": [],
   "source": [
    "# Test a http request\n",
    "import requests\n",
    "import json\n",
    "\n",
    "temp = tokenizer(test_x_df[0][0], return_tensors=\"np\", padding=True)\n",
    "body = json.dumps({\"instances\":d})\n",
    "headers = {\"Content-type\": \"application/json\", \"Accept\": \"text/plain\"}\n",
    "json_response = requests.post('http://localhost:8501/v1/models/crypto/versions/5:predict', data=body, headers=headers)"
   ]
  }
 ],
 "metadata": {
  "kernelspec": {
   "display_name": "Python 3",
   "language": "python",
   "name": "python3"
  },
  "language_info": {
   "codemirror_mode": {
    "name": "ipython",
    "version": 3
   },
   "file_extension": ".py",
   "mimetype": "text/x-python",
   "name": "python",
   "nbconvert_exporter": "python",
   "pygments_lexer": "ipython3",
   "version": "3.7.11"
  }
 },
 "nbformat": 4,
 "nbformat_minor": 4
}
