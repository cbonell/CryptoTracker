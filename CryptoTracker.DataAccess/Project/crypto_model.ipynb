{
 "cells": [
  {
   "cell_type": "code",
   "execution_count": 1,
   "metadata": {},
   "outputs": [
    {
     "name": "stdout",
     "output_type": "stream",
     "text": [
      "### Python version: 3.7.11 (default, Jul 27 2021, 09:42:29) [MSC v.1916 64 bit (AMD64)]\n",
      "### Numpy version: 1.19.2\n",
      "### Scikit-learn version: 0.23.2\n",
      "### Tensorflow version: 2.6.0\n",
      "------------\n"
     ]
    }
   ],
   "source": [
    "#Load packages\n",
    "import sys\n",
    "import os\n",
    "import time\n",
    "import datetime\n",
    "\n",
    "import numpy as np\n",
    "import sklearn as sk\n",
    "import pandas as pd\n",
    "import tensorflow as tf\n",
    "\n",
    "import tensorflow.keras as keras\n",
    "from tensorflow.keras.layers import Input, Flatten, Dense, Dropout, SimpleRNN, GRU\n",
    "from tensorflow.keras.callbacks import EarlyStopping, ModelCheckpoint, TensorBoard\n",
    "\n",
    "%load_ext tensorboard\n",
    "%matplotlib inline\n",
    "from matplotlib import pyplot as plt\n",
    "plt.rcParams.update({'font.size': 18})\n",
    "\n",
    "# Package versions\n",
    "print('### Python version: ' + sys.version)\n",
    "print('### Numpy version: ' + np.__version__)\n",
    "print('### Scikit-learn version: ' + sk.__version__)\n",
    "print('### Tensorflow version: ' + tf.__version__)\n",
    "print('------------')"
   ]
  },
  {
   "cell_type": "code",
   "execution_count": 2,
   "metadata": {},
   "outputs": [
    {
     "name": "stdout",
     "output_type": "stream",
     "text": [
      "Num GPUs Available:  1\n"
     ]
    }
   ],
   "source": [
    "# Check GPU Usage\n",
    "print(\"Num GPUs Available: \", len(tf.config.list_physical_devices('GPU')))"
   ]
  },
  {
   "cell_type": "code",
   "execution_count": 3,
   "metadata": {},
   "outputs": [],
   "source": [
    "seed = 52\n",
    "np.random.seed(seed)\n",
    "tf.random.set_seed(seed)\n"
   ]
  },
  {
   "cell_type": "code",
   "execution_count": 5,
   "metadata": {},
   "outputs": [
    {
     "data": {
      "text/html": [
       "<div>\n",
       "<style scoped>\n",
       "    .dataframe tbody tr th:only-of-type {\n",
       "        vertical-align: middle;\n",
       "    }\n",
       "\n",
       "    .dataframe tbody tr th {\n",
       "        vertical-align: top;\n",
       "    }\n",
       "\n",
       "    .dataframe thead th {\n",
       "        text-align: right;\n",
       "    }\n",
       "</style>\n",
       "<table border=\"1\" class=\"dataframe\">\n",
       "  <thead>\n",
       "    <tr style=\"text-align: right;\">\n",
       "      <th></th>\n",
       "      <th>open</th>\n",
       "      <th>high</th>\n",
       "      <th>low</th>\n",
       "      <th>close</th>\n",
       "      <th>quantity</th>\n",
       "      <th>value</th>\n",
       "      <th>fear and greed index</th>\n",
       "      <th>google trends</th>\n",
       "      <th>btc dominance</th>\n",
       "      <th>total marketcap</th>\n",
       "      <th>...</th>\n",
       "      <th>28 day google trends percent change</th>\n",
       "      <th>7 day btc dominance average</th>\n",
       "      <th>7 day btc dominance change</th>\n",
       "      <th>28 day btc dominance average</th>\n",
       "      <th>28 day btc dominance change</th>\n",
       "      <th>7 day volume quantity average</th>\n",
       "      <th>7 day volume quantity percent change</th>\n",
       "      <th>28 day volume quantity average</th>\n",
       "      <th>28 day volume quantity percent change</th>\n",
       "      <th>target</th>\n",
       "    </tr>\n",
       "  </thead>\n",
       "  <tbody>\n",
       "    <tr>\n",
       "      <th>0</th>\n",
       "      <td>8733.86</td>\n",
       "      <td>8796.68</td>\n",
       "      <td>8707.28</td>\n",
       "      <td>8740.99</td>\n",
       "      <td>4.906603e+06</td>\n",
       "      <td>559.93000</td>\n",
       "      <td>40.0</td>\n",
       "      <td>9.0</td>\n",
       "      <td>37.3641</td>\n",
       "      <td>3.740000e+11</td>\n",
       "      <td>...</td>\n",
       "      <td>0.000000</td>\n",
       "      <td>37.364100</td>\n",
       "      <td>0.000000</td>\n",
       "      <td>37.364100</td>\n",
       "      <td>0.000000</td>\n",
       "      <td>4.906603e+06</td>\n",
       "      <td>0.000000</td>\n",
       "      <td>4.906603e+06</td>\n",
       "      <td>0.000000</td>\n",
       "      <td>8740.99</td>\n",
       "    </tr>\n",
       "    <tr>\n",
       "      <th>1</th>\n",
       "      <td>8740.99</td>\n",
       "      <td>8766.00</td>\n",
       "      <td>8721.11</td>\n",
       "      <td>8739.00</td>\n",
       "      <td>2.390399e+06</td>\n",
       "      <td>273.58000</td>\n",
       "      <td>40.0</td>\n",
       "      <td>9.0</td>\n",
       "      <td>37.3641</td>\n",
       "      <td>3.740000e+11</td>\n",
       "      <td>...</td>\n",
       "      <td>0.000000</td>\n",
       "      <td>37.364100</td>\n",
       "      <td>0.000000</td>\n",
       "      <td>37.364100</td>\n",
       "      <td>0.000000</td>\n",
       "      <td>3.648501e+06</td>\n",
       "      <td>-0.512820</td>\n",
       "      <td>3.648501e+06</td>\n",
       "      <td>-0.512820</td>\n",
       "      <td>8739.00</td>\n",
       "    </tr>\n",
       "    <tr>\n",
       "      <th>2</th>\n",
       "      <td>8739.00</td>\n",
       "      <td>8750.27</td>\n",
       "      <td>8660.53</td>\n",
       "      <td>8728.49</td>\n",
       "      <td>7.986063e+06</td>\n",
       "      <td>917.79000</td>\n",
       "      <td>40.0</td>\n",
       "      <td>9.0</td>\n",
       "      <td>37.3641</td>\n",
       "      <td>3.740000e+11</td>\n",
       "      <td>...</td>\n",
       "      <td>0.000000</td>\n",
       "      <td>37.364100</td>\n",
       "      <td>0.000000</td>\n",
       "      <td>37.364100</td>\n",
       "      <td>0.000000</td>\n",
       "      <td>5.094355e+06</td>\n",
       "      <td>0.627615</td>\n",
       "      <td>5.094355e+06</td>\n",
       "      <td>0.627615</td>\n",
       "      <td>8728.49</td>\n",
       "    </tr>\n",
       "    <tr>\n",
       "      <th>3</th>\n",
       "      <td>8728.49</td>\n",
       "      <td>8754.40</td>\n",
       "      <td>8701.35</td>\n",
       "      <td>8708.32</td>\n",
       "      <td>1.593992e+06</td>\n",
       "      <td>182.62000</td>\n",
       "      <td>40.0</td>\n",
       "      <td>9.0</td>\n",
       "      <td>37.3641</td>\n",
       "      <td>3.740000e+11</td>\n",
       "      <td>...</td>\n",
       "      <td>0.000000</td>\n",
       "      <td>37.364100</td>\n",
       "      <td>0.000000</td>\n",
       "      <td>37.364100</td>\n",
       "      <td>0.000000</td>\n",
       "      <td>4.219264e+06</td>\n",
       "      <td>-0.675133</td>\n",
       "      <td>4.219264e+06</td>\n",
       "      <td>-0.675133</td>\n",
       "      <td>8708.32</td>\n",
       "    </tr>\n",
       "    <tr>\n",
       "      <th>4</th>\n",
       "      <td>8708.32</td>\n",
       "      <td>8865.00</td>\n",
       "      <td>8695.11</td>\n",
       "      <td>8795.90</td>\n",
       "      <td>1.110127e+07</td>\n",
       "      <td>1260.69000</td>\n",
       "      <td>40.0</td>\n",
       "      <td>9.0</td>\n",
       "      <td>37.3641</td>\n",
       "      <td>3.740000e+11</td>\n",
       "      <td>...</td>\n",
       "      <td>0.000000</td>\n",
       "      <td>37.364100</td>\n",
       "      <td>0.000000</td>\n",
       "      <td>37.364100</td>\n",
       "      <td>0.000000</td>\n",
       "      <td>5.595666e+06</td>\n",
       "      <td>1.262517</td>\n",
       "      <td>5.595666e+06</td>\n",
       "      <td>1.262517</td>\n",
       "      <td>8795.90</td>\n",
       "    </tr>\n",
       "    <tr>\n",
       "      <th>...</th>\n",
       "      <td>...</td>\n",
       "      <td>...</td>\n",
       "      <td>...</td>\n",
       "      <td>...</td>\n",
       "      <td>...</td>\n",
       "      <td>...</td>\n",
       "      <td>...</td>\n",
       "      <td>...</td>\n",
       "      <td>...</td>\n",
       "      <td>...</td>\n",
       "      <td>...</td>\n",
       "      <td>...</td>\n",
       "      <td>...</td>\n",
       "      <td>...</td>\n",
       "      <td>...</td>\n",
       "      <td>...</td>\n",
       "      <td>...</td>\n",
       "      <td>...</td>\n",
       "      <td>...</td>\n",
       "      <td>...</td>\n",
       "      <td>...</td>\n",
       "    </tr>\n",
       "    <tr>\n",
       "      <th>37574</th>\n",
       "      <td>20018.00</td>\n",
       "      <td>20043.00</td>\n",
       "      <td>19950.00</td>\n",
       "      <td>20015.00</td>\n",
       "      <td>1.426210e+01</td>\n",
       "      <td>285456.00020</td>\n",
       "      <td>28.0</td>\n",
       "      <td>14.0</td>\n",
       "      <td>39.7860</td>\n",
       "      <td>9.740000e+11</td>\n",
       "      <td>...</td>\n",
       "      <td>-0.176471</td>\n",
       "      <td>39.872493</td>\n",
       "      <td>-0.009471</td>\n",
       "      <td>40.330005</td>\n",
       "      <td>-0.040994</td>\n",
       "      <td>6.941874e+01</td>\n",
       "      <td>-0.889159</td>\n",
       "      <td>6.463593e+01</td>\n",
       "      <td>-0.871257</td>\n",
       "      <td>20024.00</td>\n",
       "    </tr>\n",
       "    <tr>\n",
       "      <th>37575</th>\n",
       "      <td>20024.00</td>\n",
       "      <td>20031.00</td>\n",
       "      <td>19884.00</td>\n",
       "      <td>19884.00</td>\n",
       "      <td>1.733832e+01</td>\n",
       "      <td>344755.07420</td>\n",
       "      <td>28.0</td>\n",
       "      <td>14.0</td>\n",
       "      <td>39.7860</td>\n",
       "      <td>9.740000e+11</td>\n",
       "      <td>...</td>\n",
       "      <td>-0.176471</td>\n",
       "      <td>39.870229</td>\n",
       "      <td>-0.009471</td>\n",
       "      <td>40.327474</td>\n",
       "      <td>-0.040994</td>\n",
       "      <td>6.875604e+01</td>\n",
       "      <td>-0.769239</td>\n",
       "      <td>6.449688e+01</td>\n",
       "      <td>-0.896131</td>\n",
       "      <td>19880.00</td>\n",
       "    </tr>\n",
       "    <tr>\n",
       "      <th>37576</th>\n",
       "      <td>19880.00</td>\n",
       "      <td>20100.00</td>\n",
       "      <td>19870.00</td>\n",
       "      <td>20028.00</td>\n",
       "      <td>3.095370e+01</td>\n",
       "      <td>619940.76070</td>\n",
       "      <td>28.0</td>\n",
       "      <td>14.0</td>\n",
       "      <td>39.7860</td>\n",
       "      <td>9.740000e+11</td>\n",
       "      <td>...</td>\n",
       "      <td>-0.176471</td>\n",
       "      <td>39.867964</td>\n",
       "      <td>-0.009471</td>\n",
       "      <td>40.324943</td>\n",
       "      <td>-0.040994</td>\n",
       "      <td>6.849305e+01</td>\n",
       "      <td>0.525962</td>\n",
       "      <td>6.429454e+01</td>\n",
       "      <td>0.307403</td>\n",
       "      <td>20022.00</td>\n",
       "    </tr>\n",
       "    <tr>\n",
       "      <th>37577</th>\n",
       "      <td>20022.00</td>\n",
       "      <td>20089.00</td>\n",
       "      <td>19999.00</td>\n",
       "      <td>20045.00</td>\n",
       "      <td>1.590873e+01</td>\n",
       "      <td>318890.41390</td>\n",
       "      <td>28.0</td>\n",
       "      <td>14.0</td>\n",
       "      <td>39.7860</td>\n",
       "      <td>9.740000e+11</td>\n",
       "      <td>...</td>\n",
       "      <td>-0.125000</td>\n",
       "      <td>39.865700</td>\n",
       "      <td>-0.009061</td>\n",
       "      <td>40.322412</td>\n",
       "      <td>-0.035479</td>\n",
       "      <td>6.846700e+01</td>\n",
       "      <td>-0.793317</td>\n",
       "      <td>6.428298e+01</td>\n",
       "      <td>-0.157130</td>\n",
       "      <td>20044.00</td>\n",
       "    </tr>\n",
       "    <tr>\n",
       "      <th>37578</th>\n",
       "      <td>20044.00</td>\n",
       "      <td>20049.00</td>\n",
       "      <td>19996.00</td>\n",
       "      <td>20047.00</td>\n",
       "      <td>1.888301e+00</td>\n",
       "      <td>37854.77175</td>\n",
       "      <td>28.0</td>\n",
       "      <td>14.0</td>\n",
       "      <td>39.7860</td>\n",
       "      <td>9.740000e+11</td>\n",
       "      <td>...</td>\n",
       "      <td>-0.125000</td>\n",
       "      <td>39.863535</td>\n",
       "      <td>-0.009061</td>\n",
       "      <td>40.320235</td>\n",
       "      <td>-0.035479</td>\n",
       "      <td>6.802008e+01</td>\n",
       "      <td>-0.896273</td>\n",
       "      <td>6.425770e+01</td>\n",
       "      <td>-0.993854</td>\n",
       "      <td>20044.00</td>\n",
       "    </tr>\n",
       "  </tbody>\n",
       "</table>\n",
       "<p>37579 rows × 32 columns</p>\n",
       "</div>"
      ],
      "text/plain": [
       "           open      high       low     close      quantity         value  \\\n",
       "0       8733.86   8796.68   8707.28   8740.99  4.906603e+06     559.93000   \n",
       "1       8740.99   8766.00   8721.11   8739.00  2.390399e+06     273.58000   \n",
       "2       8739.00   8750.27   8660.53   8728.49  7.986063e+06     917.79000   \n",
       "3       8728.49   8754.40   8701.35   8708.32  1.593992e+06     182.62000   \n",
       "4       8708.32   8865.00   8695.11   8795.90  1.110127e+07    1260.69000   \n",
       "...         ...       ...       ...       ...           ...           ...   \n",
       "37574  20018.00  20043.00  19950.00  20015.00  1.426210e+01  285456.00020   \n",
       "37575  20024.00  20031.00  19884.00  19884.00  1.733832e+01  344755.07420   \n",
       "37576  19880.00  20100.00  19870.00  20028.00  3.095370e+01  619940.76070   \n",
       "37577  20022.00  20089.00  19999.00  20045.00  1.590873e+01  318890.41390   \n",
       "37578  20044.00  20049.00  19996.00  20047.00  1.888301e+00   37854.77175   \n",
       "\n",
       "       fear and greed index  google trends  btc dominance  total marketcap  \\\n",
       "0                      40.0            9.0        37.3641     3.740000e+11   \n",
       "1                      40.0            9.0        37.3641     3.740000e+11   \n",
       "2                      40.0            9.0        37.3641     3.740000e+11   \n",
       "3                      40.0            9.0        37.3641     3.740000e+11   \n",
       "4                      40.0            9.0        37.3641     3.740000e+11   \n",
       "...                     ...            ...            ...              ...   \n",
       "37574                  28.0           14.0        39.7860     9.740000e+11   \n",
       "37575                  28.0           14.0        39.7860     9.740000e+11   \n",
       "37576                  28.0           14.0        39.7860     9.740000e+11   \n",
       "37577                  28.0           14.0        39.7860     9.740000e+11   \n",
       "37578                  28.0           14.0        39.7860     9.740000e+11   \n",
       "\n",
       "       ...  28 day google trends percent change  7 day btc dominance average  \\\n",
       "0      ...                             0.000000                    37.364100   \n",
       "1      ...                             0.000000                    37.364100   \n",
       "2      ...                             0.000000                    37.364100   \n",
       "3      ...                             0.000000                    37.364100   \n",
       "4      ...                             0.000000                    37.364100   \n",
       "...    ...                                  ...                          ...   \n",
       "37574  ...                            -0.176471                    39.872493   \n",
       "37575  ...                            -0.176471                    39.870229   \n",
       "37576  ...                            -0.176471                    39.867964   \n",
       "37577  ...                            -0.125000                    39.865700   \n",
       "37578  ...                            -0.125000                    39.863535   \n",
       "\n",
       "       7 day btc dominance change  28 day btc dominance average  \\\n",
       "0                        0.000000                     37.364100   \n",
       "1                        0.000000                     37.364100   \n",
       "2                        0.000000                     37.364100   \n",
       "3                        0.000000                     37.364100   \n",
       "4                        0.000000                     37.364100   \n",
       "...                           ...                           ...   \n",
       "37574                   -0.009471                     40.330005   \n",
       "37575                   -0.009471                     40.327474   \n",
       "37576                   -0.009471                     40.324943   \n",
       "37577                   -0.009061                     40.322412   \n",
       "37578                   -0.009061                     40.320235   \n",
       "\n",
       "       28 day btc dominance change  7 day volume quantity average  \\\n",
       "0                         0.000000                   4.906603e+06   \n",
       "1                         0.000000                   3.648501e+06   \n",
       "2                         0.000000                   5.094355e+06   \n",
       "3                         0.000000                   4.219264e+06   \n",
       "4                         0.000000                   5.595666e+06   \n",
       "...                            ...                            ...   \n",
       "37574                    -0.040994                   6.941874e+01   \n",
       "37575                    -0.040994                   6.875604e+01   \n",
       "37576                    -0.040994                   6.849305e+01   \n",
       "37577                    -0.035479                   6.846700e+01   \n",
       "37578                    -0.035479                   6.802008e+01   \n",
       "\n",
       "       7 day volume quantity percent change  28 day volume quantity average  \\\n",
       "0                                  0.000000                    4.906603e+06   \n",
       "1                                 -0.512820                    3.648501e+06   \n",
       "2                                  0.627615                    5.094355e+06   \n",
       "3                                 -0.675133                    4.219264e+06   \n",
       "4                                  1.262517                    5.595666e+06   \n",
       "...                                     ...                             ...   \n",
       "37574                             -0.889159                    6.463593e+01   \n",
       "37575                             -0.769239                    6.449688e+01   \n",
       "37576                              0.525962                    6.429454e+01   \n",
       "37577                             -0.793317                    6.428298e+01   \n",
       "37578                             -0.896273                    6.425770e+01   \n",
       "\n",
       "       28 day volume quantity percent change    target  \n",
       "0                                   0.000000   8740.99  \n",
       "1                                  -0.512820   8739.00  \n",
       "2                                   0.627615   8728.49  \n",
       "3                                  -0.675133   8708.32  \n",
       "4                                   1.262517   8795.90  \n",
       "...                                      ...       ...  \n",
       "37574                              -0.871257  20024.00  \n",
       "37575                              -0.896131  19880.00  \n",
       "37576                               0.307403  20022.00  \n",
       "37577                              -0.157130  20044.00  \n",
       "37578                              -0.993854  20044.00  \n",
       "\n",
       "[37579 rows x 32 columns]"
      ]
     },
     "execution_count": 5,
     "metadata": {},
     "output_type": "execute_result"
    }
   ],
   "source": [
    "#read and view data\n",
    "bitcoin_path = 'Data/BTC-Hourly.csv'\n",
    "bitcoin_df = pd.read_csv(bitcoin_path,\n",
    "                          encoding = \"ISO-8859-1\")\n",
    "bitcoin_df = bitcoin_df[bitcoin_df.columns[~bitcoin_df.columns.isin(['unix','date','symbol'])]]\n",
    "bitcoin_df"
   ]
  },
  {
   "cell_type": "code",
<<<<<<< Updated upstream
   "execution_count": null,
   "metadata": {},
   "outputs": [],
   "source": [
    "#"
=======
   "execution_count": 5,
   "metadata": {},
   "outputs": [],
   "source": [
    "bitcoin_data_column_names = ['open', 'high', 'low', 'close', 'quantity', 'value', 'fear and greed index',\n",
    "                            'google trends', 'btc dominance', 'total marketcap', 'altcoin marketcap',\n",
    "                            '7 day $ avg', '7 day $ % change', '28 day $ avg', '28 day $ % change',\n",
    "                            '7 day greed avg', '7 day greed % change', '28 day greed avg', '28 day greed % change',\n",
    "                            '7 day google trends avg', '7 day google trends % change', '28 day google trends avg', '28 day google trends % change',\n",
    "                            '7 day btc dominance average', '7 day btc dominance % change', '28 day btc dominance avg', '28 day btc dominance % change',\n",
    "                            '7 day volume avg', '7 day volume % change', '28 day volume avg', '28 day volume % change', 'target']"
   ]
  },
  {
   "cell_type": "code",
   "execution_count": 6,
   "metadata": {},
   "outputs": [],
   "source": [
    "# Convert from a df to a numpy array\n",
    "bitcoin_data = np.asarray(bitcoin_df, dtype='float64')\n",
    "assert bitcoin_data.shape[1] == 32\n",
    "\n",
    "all_x = bitcoin_data[:, range(0, bitcoin_data.shape[1] - 1)]\n",
    "all_y = bitcoin_data[:, bitcoin_data.shape[1] - 1]"
   ]
  },
  {
   "cell_type": "code",
   "execution_count": 7,
   "metadata": {},
   "outputs": [],
   "source": [
    "from sklearn.preprocessing import MinMaxScaler \n",
    "def min_max_normalize(data):\n",
    "    scaler = MinMaxScaler()\n",
    "    scaler.fit(data)\n",
    "    return scaler.transform(data)"
   ]
  },
  {
   "cell_type": "code",
   "execution_count": 8,
   "metadata": {},
   "outputs": [],
   "source": [
    "# normalize data\n",
    "all_x = min_max_normalize(all_x)"
   ]
  },
  {
   "cell_type": "code",
   "execution_count": 9,
   "metadata": {},
   "outputs": [
    {
     "data": {
      "text/plain": [
       "((27579, 31), (10000, 31), (27579,), (10000,))"
      ]
     },
     "execution_count": 9,
     "metadata": {},
     "output_type": "execute_result"
    }
   ],
   "source": [
    "# train test split data\n",
    "from sklearn.model_selection import train_test_split\n",
    "train_x, test_x, train_y, test_y = train_test_split(all_x, all_y, test_size = .2661, random_state = seed)\n",
    "\n",
    "# verify shapes\n",
    "train_x.shape, test_x.shape, train_y.shape, test_y.shape"
   ]
  },
  {
   "cell_type": "code",
   "execution_count": 10,
   "metadata": {},
   "outputs": [
    {
     "data": {
      "text/plain": [
       "((5000, 31), (5000, 31), (5000,), (5000,))"
      ]
     },
     "execution_count": 10,
     "metadata": {},
     "output_type": "execute_result"
    }
   ],
   "source": [
    "# test val split data\n",
    "test_x, val_x, test_y, val_y = train_test_split(test_x, test_y, test_size = .5, random_state = seed)\n",
    "\n",
    "# verify shapes\n",
    "test_x.shape, val_x.shape, test_y.shape, val_y.shape"
   ]
  },
  {
   "cell_type": "code",
   "execution_count": 11,
   "metadata": {},
   "outputs": [],
   "source": [
    "train_xy = np.hstack((train_x, train_y.reshape(-1,1)))"
   ]
  },
  {
   "cell_type": "code",
   "execution_count": 12,
   "metadata": {},
   "outputs": [
    {
     "data": {
      "text/html": [
       "<div>\n",
       "<style scoped>\n",
       "    .dataframe tbody tr th:only-of-type {\n",
       "        vertical-align: middle;\n",
       "    }\n",
       "\n",
       "    .dataframe tbody tr th {\n",
       "        vertical-align: top;\n",
       "    }\n",
       "\n",
       "    .dataframe thead th {\n",
       "        text-align: right;\n",
       "    }\n",
       "</style>\n",
       "<table border=\"1\" class=\"dataframe\">\n",
       "  <thead>\n",
       "    <tr style=\"text-align: right;\">\n",
       "      <th></th>\n",
       "      <th>open</th>\n",
       "      <th>high</th>\n",
       "      <th>low</th>\n",
       "      <th>close</th>\n",
       "      <th>quantity</th>\n",
       "      <th>value</th>\n",
       "      <th>fear and greed index</th>\n",
       "      <th>google trends</th>\n",
       "      <th>btc dominance</th>\n",
       "      <th>total marketcap</th>\n",
       "      <th>...</th>\n",
       "      <th>28 day google trends % change</th>\n",
       "      <th>7 day btc dominance average</th>\n",
       "      <th>7 day btc dominance % change</th>\n",
       "      <th>28 day btc dominance avg</th>\n",
       "      <th>28 day btc dominance % change</th>\n",
       "      <th>7 day volume avg</th>\n",
       "      <th>7 day volume % change</th>\n",
       "      <th>28 day volume avg</th>\n",
       "      <th>28 day volume % change</th>\n",
       "      <th>target</th>\n",
       "    </tr>\n",
       "  </thead>\n",
       "  <tbody>\n",
       "    <tr>\n",
       "      <th>0</th>\n",
       "      <td>0.010867</td>\n",
       "      <td>0.010566</td>\n",
       "      <td>0.011073</td>\n",
       "      <td>0.010869</td>\n",
       "      <td>2.308267e-06</td>\n",
       "      <td>2.360954e-03</td>\n",
       "      <td>0.411111</td>\n",
       "      <td>0.016949</td>\n",
       "      <td>0.488493</td>\n",
       "      <td>0.010123</td>\n",
       "      <td>...</td>\n",
       "      <td>0.131861</td>\n",
       "      <td>0.443714</td>\n",
       "      <td>0.337548</td>\n",
       "      <td>0.464557</td>\n",
       "      <td>0.310877</td>\n",
       "      <td>0.030485</td>\n",
       "      <td>9.346989e-09</td>\n",
       "      <td>0.139736</td>\n",
       "      <td>1.405944e-09</td>\n",
       "      <td>3851.26</td>\n",
       "    </tr>\n",
       "    <tr>\n",
       "      <th>1</th>\n",
       "      <td>0.091262</td>\n",
       "      <td>0.090702</td>\n",
       "      <td>0.091669</td>\n",
       "      <td>0.091352</td>\n",
       "      <td>4.955978e-03</td>\n",
       "      <td>1.442207e-07</td>\n",
       "      <td>0.400000</td>\n",
       "      <td>0.067797</td>\n",
       "      <td>0.767802</td>\n",
       "      <td>0.060738</td>\n",
       "      <td>...</td>\n",
       "      <td>0.207571</td>\n",
       "      <td>0.760939</td>\n",
       "      <td>0.335960</td>\n",
       "      <td>0.825673</td>\n",
       "      <td>0.306534</td>\n",
       "      <td>0.122820</td>\n",
       "      <td>1.169298e-05</td>\n",
       "      <td>0.239742</td>\n",
       "      <td>6.094768e-07</td>\n",
       "      <td>9122.14</td>\n",
       "    </tr>\n",
       "    <tr>\n",
       "      <th>2</th>\n",
       "      <td>0.475355</td>\n",
       "      <td>0.483285</td>\n",
       "      <td>0.470414</td>\n",
       "      <td>0.479974</td>\n",
       "      <td>1.163194e-05</td>\n",
       "      <td>1.067851e-01</td>\n",
       "      <td>0.800000</td>\n",
       "      <td>0.423729</td>\n",
       "      <td>0.787914</td>\n",
       "      <td>0.298626</td>\n",
       "      <td>...</td>\n",
       "      <td>0.146544</td>\n",
       "      <td>0.783040</td>\n",
       "      <td>0.327017</td>\n",
       "      <td>0.917879</td>\n",
       "      <td>0.258223</td>\n",
       "      <td>0.000050</td>\n",
       "      <td>5.978905e-05</td>\n",
       "      <td>0.000080</td>\n",
       "      <td>1.002730e-05</td>\n",
       "      <td>34570.43</td>\n",
       "    </tr>\n",
       "    <tr>\n",
       "      <th>3</th>\n",
       "      <td>0.001487</td>\n",
       "      <td>0.003655</td>\n",
       "      <td>0.001759</td>\n",
       "      <td>0.003745</td>\n",
       "      <td>7.254924e-02</td>\n",
       "      <td>5.763772e-06</td>\n",
       "      <td>0.133333</td>\n",
       "      <td>0.067797</td>\n",
       "      <td>0.560195</td>\n",
       "      <td>0.000000</td>\n",
       "      <td>...</td>\n",
       "      <td>0.120849</td>\n",
       "      <td>0.530897</td>\n",
       "      <td>0.334659</td>\n",
       "      <td>0.518034</td>\n",
       "      <td>0.358607</td>\n",
       "      <td>0.117468</td>\n",
       "      <td>1.403828e-04</td>\n",
       "      <td>0.329851</td>\n",
       "      <td>1.454133e-06</td>\n",
       "      <td>3384.99</td>\n",
       "    </tr>\n",
       "    <tr>\n",
       "      <th>4</th>\n",
       "      <td>0.810146</td>\n",
       "      <td>0.807563</td>\n",
       "      <td>0.801942</td>\n",
       "      <td>0.808107</td>\n",
       "      <td>3.766896e-06</td>\n",
       "      <td>5.607784e-02</td>\n",
       "      <td>0.700000</td>\n",
       "      <td>0.372881</td>\n",
       "      <td>0.355103</td>\n",
       "      <td>0.765004</td>\n",
       "      <td>...</td>\n",
       "      <td>0.183111</td>\n",
       "      <td>0.333470</td>\n",
       "      <td>0.298416</td>\n",
       "      <td>0.443087</td>\n",
       "      <td>0.222507</td>\n",
       "      <td>0.000010</td>\n",
       "      <td>1.900567e-05</td>\n",
       "      <td>0.000020</td>\n",
       "      <td>5.682684e-06</td>\n",
       "      <td>56051.35</td>\n",
       "    </tr>\n",
       "    <tr>\n",
       "      <th>...</th>\n",
       "      <td>...</td>\n",
       "      <td>...</td>\n",
       "      <td>...</td>\n",
       "      <td>...</td>\n",
       "      <td>...</td>\n",
       "      <td>...</td>\n",
       "      <td>...</td>\n",
       "      <td>...</td>\n",
       "      <td>...</td>\n",
       "      <td>...</td>\n",
       "      <td>...</td>\n",
       "      <td>...</td>\n",
       "      <td>...</td>\n",
       "      <td>...</td>\n",
       "      <td>...</td>\n",
       "      <td>...</td>\n",
       "      <td>...</td>\n",
       "      <td>...</td>\n",
       "      <td>...</td>\n",
       "      <td>...</td>\n",
       "      <td>...</td>\n",
       "    </tr>\n",
       "    <tr>\n",
       "      <th>27574</th>\n",
       "      <td>0.386301</td>\n",
       "      <td>0.385752</td>\n",
       "      <td>0.386627</td>\n",
       "      <td>0.387097</td>\n",
       "      <td>6.289931e-07</td>\n",
       "      <td>4.759958e-03</td>\n",
       "      <td>0.077778</td>\n",
       "      <td>0.186441</td>\n",
       "      <td>0.359272</td>\n",
       "      <td>0.410701</td>\n",
       "      <td>...</td>\n",
       "      <td>0.018801</td>\n",
       "      <td>0.276349</td>\n",
       "      <td>0.349434</td>\n",
       "      <td>0.254168</td>\n",
       "      <td>0.371876</td>\n",
       "      <td>0.000003</td>\n",
       "      <td>1.201188e-04</td>\n",
       "      <td>0.000003</td>\n",
       "      <td>6.915464e-07</td>\n",
       "      <td>28483.91</td>\n",
       "    </tr>\n",
       "    <tr>\n",
       "      <th>27575</th>\n",
       "      <td>0.242796</td>\n",
       "      <td>0.242133</td>\n",
       "      <td>0.242530</td>\n",
       "      <td>0.243501</td>\n",
       "      <td>8.856147e-07</td>\n",
       "      <td>4.489397e-03</td>\n",
       "      <td>1.000000</td>\n",
       "      <td>0.152542</td>\n",
       "      <td>0.779371</td>\n",
       "      <td>0.163774</td>\n",
       "      <td>...</td>\n",
       "      <td>0.193982</td>\n",
       "      <td>0.759015</td>\n",
       "      <td>0.348765</td>\n",
       "      <td>0.820057</td>\n",
       "      <td>0.317956</td>\n",
       "      <td>0.000021</td>\n",
       "      <td>6.809827e-06</td>\n",
       "      <td>0.000042</td>\n",
       "      <td>8.311976e-07</td>\n",
       "      <td>19089.49</td>\n",
       "    </tr>\n",
       "    <tr>\n",
       "      <th>27576</th>\n",
       "      <td>0.110422</td>\n",
       "      <td>0.110717</td>\n",
       "      <td>0.110978</td>\n",
       "      <td>0.111047</td>\n",
       "      <td>5.888074e-02</td>\n",
       "      <td>1.502532e-06</td>\n",
       "      <td>0.311111</td>\n",
       "      <td>0.067797</td>\n",
       "      <td>0.932579</td>\n",
       "      <td>0.058568</td>\n",
       "      <td>...</td>\n",
       "      <td>0.120849</td>\n",
       "      <td>0.950475</td>\n",
       "      <td>0.339229</td>\n",
       "      <td>0.935989</td>\n",
       "      <td>0.378040</td>\n",
       "      <td>0.246724</td>\n",
       "      <td>9.672249e-06</td>\n",
       "      <td>0.509346</td>\n",
       "      <td>1.385842e-05</td>\n",
       "      <td>10411.95</td>\n",
       "    </tr>\n",
       "    <tr>\n",
       "      <th>27577</th>\n",
       "      <td>0.050618</td>\n",
       "      <td>0.050095</td>\n",
       "      <td>0.050807</td>\n",
       "      <td>0.050510</td>\n",
       "      <td>9.621194e-03</td>\n",
       "      <td>3.961256e-07</td>\n",
       "      <td>0.511111</td>\n",
       "      <td>0.016949</td>\n",
       "      <td>0.498858</td>\n",
       "      <td>0.040492</td>\n",
       "      <td>...</td>\n",
       "      <td>0.131861</td>\n",
       "      <td>0.475861</td>\n",
       "      <td>0.319323</td>\n",
       "      <td>0.507012</td>\n",
       "      <td>0.317988</td>\n",
       "      <td>0.071489</td>\n",
       "      <td>4.058606e-05</td>\n",
       "      <td>0.124514</td>\n",
       "      <td>7.923520e-07</td>\n",
       "      <td>6447.50</td>\n",
       "    </tr>\n",
       "    <tr>\n",
       "      <th>27578</th>\n",
       "      <td>0.503044</td>\n",
       "      <td>0.500676</td>\n",
       "      <td>0.488004</td>\n",
       "      <td>0.487289</td>\n",
       "      <td>6.857269e-06</td>\n",
       "      <td>6.382509e-02</td>\n",
       "      <td>0.811111</td>\n",
       "      <td>0.491525</td>\n",
       "      <td>0.840419</td>\n",
       "      <td>0.327549</td>\n",
       "      <td>...</td>\n",
       "      <td>0.326412</td>\n",
       "      <td>0.910333</td>\n",
       "      <td>0.302958</td>\n",
       "      <td>0.978817</td>\n",
       "      <td>0.310766</td>\n",
       "      <td>0.000029</td>\n",
       "      <td>3.440529e-05</td>\n",
       "      <td>0.000068</td>\n",
       "      <td>4.605105e-06</td>\n",
       "      <td>35084.20</td>\n",
       "    </tr>\n",
       "  </tbody>\n",
       "</table>\n",
       "<p>27579 rows × 32 columns</p>\n",
       "</div>"
      ],
      "text/plain": [
       "           open      high       low     close      quantity         value  \\\n",
       "0      0.010867  0.010566  0.011073  0.010869  2.308267e-06  2.360954e-03   \n",
       "1      0.091262  0.090702  0.091669  0.091352  4.955978e-03  1.442207e-07   \n",
       "2      0.475355  0.483285  0.470414  0.479974  1.163194e-05  1.067851e-01   \n",
       "3      0.001487  0.003655  0.001759  0.003745  7.254924e-02  5.763772e-06   \n",
       "4      0.810146  0.807563  0.801942  0.808107  3.766896e-06  5.607784e-02   \n",
       "...         ...       ...       ...       ...           ...           ...   \n",
       "27574  0.386301  0.385752  0.386627  0.387097  6.289931e-07  4.759958e-03   \n",
       "27575  0.242796  0.242133  0.242530  0.243501  8.856147e-07  4.489397e-03   \n",
       "27576  0.110422  0.110717  0.110978  0.111047  5.888074e-02  1.502532e-06   \n",
       "27577  0.050618  0.050095  0.050807  0.050510  9.621194e-03  3.961256e-07   \n",
       "27578  0.503044  0.500676  0.488004  0.487289  6.857269e-06  6.382509e-02   \n",
       "\n",
       "       fear and greed index  google trends  btc dominance  total marketcap  \\\n",
       "0                  0.411111       0.016949       0.488493         0.010123   \n",
       "1                  0.400000       0.067797       0.767802         0.060738   \n",
       "2                  0.800000       0.423729       0.787914         0.298626   \n",
       "3                  0.133333       0.067797       0.560195         0.000000   \n",
       "4                  0.700000       0.372881       0.355103         0.765004   \n",
       "...                     ...            ...            ...              ...   \n",
       "27574              0.077778       0.186441       0.359272         0.410701   \n",
       "27575              1.000000       0.152542       0.779371         0.163774   \n",
       "27576              0.311111       0.067797       0.932579         0.058568   \n",
       "27577              0.511111       0.016949       0.498858         0.040492   \n",
       "27578              0.811111       0.491525       0.840419         0.327549   \n",
       "\n",
       "       ...  28 day google trends % change  7 day btc dominance average  \\\n",
       "0      ...                       0.131861                     0.443714   \n",
       "1      ...                       0.207571                     0.760939   \n",
       "2      ...                       0.146544                     0.783040   \n",
       "3      ...                       0.120849                     0.530897   \n",
       "4      ...                       0.183111                     0.333470   \n",
       "...    ...                            ...                          ...   \n",
       "27574  ...                       0.018801                     0.276349   \n",
       "27575  ...                       0.193982                     0.759015   \n",
       "27576  ...                       0.120849                     0.950475   \n",
       "27577  ...                       0.131861                     0.475861   \n",
       "27578  ...                       0.326412                     0.910333   \n",
       "\n",
       "       7 day btc dominance % change  28 day btc dominance avg  \\\n",
       "0                          0.337548                  0.464557   \n",
       "1                          0.335960                  0.825673   \n",
       "2                          0.327017                  0.917879   \n",
       "3                          0.334659                  0.518034   \n",
       "4                          0.298416                  0.443087   \n",
       "...                             ...                       ...   \n",
       "27574                      0.349434                  0.254168   \n",
       "27575                      0.348765                  0.820057   \n",
       "27576                      0.339229                  0.935989   \n",
       "27577                      0.319323                  0.507012   \n",
       "27578                      0.302958                  0.978817   \n",
       "\n",
       "       28 day btc dominance % change  7 day volume avg  7 day volume % change  \\\n",
       "0                           0.310877          0.030485           9.346989e-09   \n",
       "1                           0.306534          0.122820           1.169298e-05   \n",
       "2                           0.258223          0.000050           5.978905e-05   \n",
       "3                           0.358607          0.117468           1.403828e-04   \n",
       "4                           0.222507          0.000010           1.900567e-05   \n",
       "...                              ...               ...                    ...   \n",
       "27574                       0.371876          0.000003           1.201188e-04   \n",
       "27575                       0.317956          0.000021           6.809827e-06   \n",
       "27576                       0.378040          0.246724           9.672249e-06   \n",
       "27577                       0.317988          0.071489           4.058606e-05   \n",
       "27578                       0.310766          0.000029           3.440529e-05   \n",
       "\n",
       "       28 day volume avg  28 day volume % change    target  \n",
       "0               0.139736            1.405944e-09   3851.26  \n",
       "1               0.239742            6.094768e-07   9122.14  \n",
       "2               0.000080            1.002730e-05  34570.43  \n",
       "3               0.329851            1.454133e-06   3384.99  \n",
       "4               0.000020            5.682684e-06  56051.35  \n",
       "...                  ...                     ...       ...  \n",
       "27574           0.000003            6.915464e-07  28483.91  \n",
       "27575           0.000042            8.311976e-07  19089.49  \n",
       "27576           0.509346            1.385842e-05  10411.95  \n",
       "27577           0.124514            7.923520e-07   6447.50  \n",
       "27578           0.000068            4.605105e-06  35084.20  \n",
       "\n",
       "[27579 rows x 32 columns]"
      ]
     },
     "execution_count": 12,
     "metadata": {},
     "output_type": "execute_result"
    }
   ],
   "source": [
    "train_xy_df = pd.DataFrame(train_xy, columns = bitcoin_data_column_names)\n",
    "train_xy_df"
   ]
  },
  {
   "cell_type": "code",
   "execution_count": 13,
   "metadata": {},
   "outputs": [],
   "source": [
    "# convert to tensors\n",
    "if len(train_x.shape) < 3:\n",
    "    train_x = train_x[:,:,np.newaxis]\n",
    "    val_x = val_x[:,:,np.newaxis]\n",
    "    test_x = test_x[:,:,np.newaxis]"
   ]
  },
  {
   "cell_type": "code",
   "execution_count": 14,
   "metadata": {},
   "outputs": [
    {
     "name": "stdout",
     "output_type": "stream",
     "text": [
      "(5000, 31, 1)\n"
     ]
    }
   ],
   "source": [
    "print(val_x.shape)"
   ]
  },
  {
   "cell_type": "code",
   "execution_count": 34,
   "metadata": {},
   "outputs": [],
   "source": [
    "def rnn_setup(input_shape=(31,1)):\n",
    "    model = keras.models.Sequential(name='bitcoin_basic_RNN')\n",
    "    \n",
    "    # Add input and middle layers\n",
    "    model.add(keras.Input(shape=input_shape, name='input_layer'))\n",
    "    model.add(SimpleRNN(62, dropout=.55, return_sequences=True, name='rnn_1'))\n",
    "    model.add(SimpleRNN(62, dropout =.55, name='rnn_2'))\n",
    "    \n",
    "    # Add output layers\n",
    "    model.add(Dense(1, activation='linear', name='output_layer'))\n",
    "    \n",
    "    model.summary()\n",
    "    \n",
    "    model.compile(loss='mse', optimizer=keras.optimizers.Adam(learning_rate=.325), metrics=['mae'])\n",
    "    \n",
    "    return model   \n",
    "    "
   ]
  },
  {
   "cell_type": "code",
   "execution_count": 35,
   "metadata": {},
   "outputs": [
    {
     "name": "stdout",
     "output_type": "stream",
     "text": [
      "Model: \"bitcoin_basic_RNN\"\n",
      "_________________________________________________________________\n",
      "Layer (type)                 Output Shape              Param #   \n",
      "=================================================================\n",
      "rnn_1 (SimpleRNN)            (None, 31, 62)            3968      \n",
      "_________________________________________________________________\n",
      "rnn_2 (SimpleRNN)            (None, 62)                7750      \n",
      "_________________________________________________________________\n",
      "output_layer (Dense)         (None, 1)                 63        \n",
      "=================================================================\n",
      "Total params: 11,781\n",
      "Trainable params: 11,781\n",
      "Non-trainable params: 0\n",
      "_________________________________________________________________\n"
     ]
    }
   ],
   "source": [
    "bitcoin_model = rnn_setup()"
   ]
  },
  {
   "cell_type": "code",
   "execution_count": 36,
   "metadata": {},
   "outputs": [
    {
     "name": "stdout",
     "output_type": "stream",
     "text": [
      "Epoch 1/11\n",
      "56/56 [==============================] - 7s 94ms/step - loss: 763846016.0000 - mae: 20914.2559 - val_loss: 723405824.0000 - val_mae: 20033.6543\n",
      "Epoch 2/11\n",
      "56/56 [==============================] - 5s 91ms/step - loss: 717702976.0000 - mae: 19785.3516 - val_loss: 679891200.0000 - val_mae: 18916.4609\n",
      "Epoch 3/11\n",
      "56/56 [==============================] - 5s 96ms/step - loss: 675386560.0000 - mae: 18682.1719 - val_loss: 640091840.0000 - val_mae: 17834.0391\n",
      "Epoch 4/11\n",
      "56/56 [==============================] - 6s 99ms/step - loss: 636668800.0000 - mae: 17645.9629 - val_loss: 603717888.0000 - val_mae: 16891.6582\n",
      "Epoch 5/11\n",
      "56/56 [==============================] - 5s 93ms/step - loss: 601345856.0000 - mae: 16766.4141 - val_loss: 570739456.0000 - val_mae: 16068.5586\n",
      "Epoch 6/11\n",
      "56/56 [==============================] - 5s 93ms/step - loss: 569089920.0000 - mae: 15966.3867 - val_loss: 540591808.0000 - val_mae: 15327.7275\n",
      "Epoch 7/11\n",
      "56/56 [==============================] - 5s 93ms/step - loss: 539899904.0000 - mae: 15302.8467 - val_loss: 513426656.0000 - val_mae: 14779.5010\n",
      "Epoch 8/11\n",
      "56/56 [==============================] - 5s 94ms/step - loss: 513427360.0000 - mae: 14823.9365 - val_loss: 488921696.0000 - val_mae: 14397.8467\n",
      "Epoch 9/11\n",
      "56/56 [==============================] - 5s 93ms/step - loss: 489652320.0000 - mae: 14493.5781 - val_loss: 466889696.0000 - val_mae: 14139.2002\n",
      "Epoch 10/11\n",
      "56/56 [==============================] - 5s 93ms/step - loss: 468302176.0000 - mae: 14292.0107 - val_loss: 447185984.0000 - val_mae: 14019.2461\n",
      "Epoch 11/11\n",
      "56/56 [==============================] - 5s 95ms/step - loss: 449139744.0000 - mae: 14211.6895 - val_loss: 429681824.0000 - val_mae: 14005.9473\n"
     ]
    },
    {
     "data": {
      "text/plain": [
       "<keras.callbacks.History at 0x22d14f3cf88>"
      ]
     },
     "execution_count": 36,
     "metadata": {},
     "output_type": "execute_result"
    }
   ],
   "source": [
    "num_epochs = 11\n",
    "batch_size = 500\n",
    "callback = tf.keras.callbacks.EarlyStopping(monitor='loss', patience=3)\n",
    "\n",
    "bitcoin_model.fit(train_x, train_y, validation_data=(val_x, val_y), epochs=num_epochs, batch_size=batch_size, callbacks=callback)"
   ]
  },
  {
   "cell_type": "code",
   "execution_count": 37,
   "metadata": {},
   "outputs": [],
   "source": [
    "pred = bitcoin_model.predict(val_x)"
   ]
  },
  {
   "cell_type": "code",
   "execution_count": 38,
   "metadata": {
    "scrolled": true
   },
   "outputs": [
    {
     "data": {
      "image/png": "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\n",
      "text/plain": [
       "<Figure size 792x792 with 1 Axes>"
      ]
     },
     "metadata": {
      "needs_background": "light"
     },
     "output_type": "display_data"
    }
   ],
   "source": [
    "fig = plt.figure(figsize=(11,11))\n",
    "plt.scatter(val_y, pred)\n",
    "plt.xlabel('True Price (USD)')\n",
    "plt.ylabel('Predicted Price (USD)')\n",
    "plt.show()"
   ]
  },
  {
   "cell_type": "code",
   "execution_count": 121,
   "metadata": {},
   "outputs": [
    {
     "data": {
      "text/plain": [
       "10782.327"
      ]
     },
     "execution_count": 121,
     "metadata": {},
     "output_type": "execute_result"
    }
   ],
   "source": [
    "pred.min()"
   ]
  },
  {
   "cell_type": "code",
   "execution_count": 122,
   "metadata": {},
   "outputs": [
    {
     "data": {
      "text/plain": [
       "10782.327"
      ]
     },
     "execution_count": 122,
     "metadata": {},
     "output_type": "execute_result"
    }
   ],
   "source": [
    "pred.max()"
   ]
  },
  {
   "cell_type": "code",
   "execution_count": 123,
   "metadata": {},
   "outputs": [
    {
     "name": "stdout",
     "output_type": "stream",
     "text": [
      "INFO:tensorflow:Assets written to: saved_models/1/assets\n"
     ]
    }
   ],
   "source": [
    "bitcoin_model.save(\"saved_models/1/\")"
   ]
  },
  {
   "cell_type": "code",
   "execution_count": 133,
   "metadata": {},
   "outputs": [
    {
     "data": {
      "text/plain": [
       "10782.327"
      ]
     },
     "execution_count": 133,
     "metadata": {},
     "output_type": "execute_result"
    }
   ],
   "source": [
    "#Delete here after\n",
    "val_x[0].shape\n",
    "pred.mean()"
   ]
  },
  {
   "cell_type": "code",
   "execution_count": 126,
   "metadata": {},
   "outputs": [
    {
     "data": {
      "text/plain": [
       "[<KerasTensor: shape=(None, 31, 1) dtype=float32 (created by layer 'input_layer')>]"
      ]
     },
     "execution_count": 126,
     "metadata": {},
     "output_type": "execute_result"
    }
   ],
   "source": [
    "bitcoin_model.inputs"
   ]
  },
  {
   "cell_type": "code",
   "execution_count": null,
   "metadata": {},
   "outputs": [],
   "source": []
  },
  {
   "cell_type": "code",
   "execution_count": 25,
   "metadata": {},
   "outputs": [
    {
     "data": {
      "text/plain": [
       "[<KerasTensor: shape=(None, 1) dtype=float32 (created by layer 'Output-layer')>]"
      ]
     },
     "execution_count": 25,
     "metadata": {},
     "output_type": "execute_result"
    }
   ],
   "source": [
    "bitcoin_model.outputs"
   ]
  },
  {
   "cell_type": "code",
   "execution_count": 80,
   "metadata": {},
   "outputs": [],
   "source": []
  },
  {
   "cell_type": "code",
   "execution_count": 91,
   "metadata": {},
   "outputs": [
    {
     "data": {
      "text/plain": [
       "(31, 1)"
      ]
     },
     "execution_count": 91,
     "metadata": {},
     "output_type": "execute_result"
    }
   ],
   "source": [
    "val_x[0].shape"
   ]
  },
  {
   "cell_type": "code",
   "execution_count": 231,
   "metadata": {},
   "outputs": [],
   "source": [
    "temp = tf.random.normal((1,31,1), mean=0)"
   ]
  },
  {
   "cell_type": "code",
   "execution_count": 33,
   "metadata": {},
   "outputs": [
    {
     "name": "stdout",
     "output_type": "stream",
     "text": [
      "[[[6.21061453e-02]\n",
      "  [6.28454690e-02]\n",
      "  [6.09320637e-02]\n",
      "  [6.10135561e-02]\n",
      "  [7.74723489e-02]\n",
      "  [2.85398928e-06]\n",
      "  [2.00000000e-01]\n",
      "  [3.38983051e-02]\n",
      "  [8.83574629e-01]\n",
      "  [3.36225597e-02]\n",
      "  [1.19007087e-02]\n",
      "  [6.58865784e-02]\n",
      "  [5.03158733e-01]\n",
      "  [6.28515686e-06]\n",
      "  [8.07618694e-06]\n",
      "  [2.24559956e-01]\n",
      "  [1.49702073e-01]\n",
      "  [2.17900964e-01]\n",
      "  [5.90737607e-02]\n",
      "  [3.38983051e-02]\n",
      "  [1.75609756e-01]\n",
      "  [4.43037975e-02]\n",
      "  [1.72239748e-01]\n",
      "  [8.90648098e-01]\n",
      "  [3.39088272e-01]\n",
      "  [9.01835695e-01]\n",
      "  [3.41770655e-01]\n",
      "  [1.07876956e-01]\n",
      "  [2.60532602e-04]\n",
      "  [2.61251921e-01]\n",
      "  [2.45494360e-05]]]\n"
     ]
    }
   ],
   "source": [
    "print(val_x[0:1])"
   ]
  },
  {
   "cell_type": "code",
   "execution_count": 41,
   "metadata": {},
   "outputs": [
    {
     "name": "stdout",
     "output_type": "stream",
     "text": [
      "[[[6.21061453e-02]\n",
      "  [6.28454690e-02]\n",
      "  [6.09320637e-02]\n",
      "  [6.10135561e-02]\n",
      "  [7.74723489e-02]\n",
      "  [2.85398928e-06]\n",
      "  [2.00000000e-01]\n",
      "  [3.38983051e-02]\n",
      "  [8.83574629e-01]\n",
      "  [3.36225597e-02]\n",
      "  [1.19007087e-02]\n",
      "  [6.58865784e-02]\n",
      "  [5.03158733e-01]\n",
      "  [6.28515686e-06]\n",
      "  [8.07618694e-06]\n",
      "  [2.24559956e-01]\n",
      "  [1.49702073e-01]\n",
      "  [2.17900964e-01]\n",
      "  [5.90737607e-02]\n",
      "  [3.38983051e-02]\n",
      "  [1.75609756e-01]\n",
      "  [4.43037975e-02]\n",
      "  [1.72239748e-01]\n",
      "  [8.90648098e-01]\n",
      "  [3.39088272e-01]\n",
      "  [9.01835695e-01]\n",
      "  [3.41770655e-01]\n",
      "  [1.07876956e-01]\n",
      "  [2.60532602e-04]\n",
      "  [2.61251921e-01]\n",
      "  [2.45494360e-05]]]\n"
     ]
    }
   ],
   "source": [
    "print(val_x[0:1])"
   ]
  },
  {
   "cell_type": "code",
   "execution_count": 42,
   "metadata": {},
   "outputs": [],
   "source": [
    "import requests\n",
    "import json"
   ]
  },
  {
   "cell_type": "code",
   "execution_count": 43,
   "metadata": {},
   "outputs": [],
   "source": [
    "body = json.dumps({\"instances\": val_x[0:1].tolist()})"
   ]
  },
  {
   "cell_type": "code",
   "execution_count": 44,
   "metadata": {},
   "outputs": [],
   "source": [
    "headers = {\"Content-type\": \"application/json\", \"Accept\": 'text/plain'}\n",
    "json_response = requests.post('http://localhost:8501/v1/models/crypto_model:predict', data=body, headers=headers)\n",
    "predictions = json.loads(json_response.text)['predictions']"
   ]
  },
  {
   "cell_type": "code",
   "execution_count": 45,
   "metadata": {},
   "outputs": [
    {
     "name": "stdout",
     "output_type": "stream",
     "text": [
      "[[10782.3252]]\n"
     ]
    }
   ],
   "source": [
    "print(predictions)"
>>>>>>> Stashed changes
   ]
  },
  {
   "cell_type": "code",
   "execution_count": null,
   "metadata": {},
   "outputs": [],
   "source": []
  }
 ],
 "metadata": {
  "kernelspec": {
   "display_name": "Python 3",
   "language": "python",
   "name": "python3"
  },
  "language_info": {
   "codemirror_mode": {
    "name": "ipython",
    "version": 3
   },
   "file_extension": ".py",
   "mimetype": "text/x-python",
   "name": "python",
   "nbconvert_exporter": "python",
   "pygments_lexer": "ipython3",
   "version": "3.7.11"
  }
 },
 "nbformat": 4,
 "nbformat_minor": 5
}
